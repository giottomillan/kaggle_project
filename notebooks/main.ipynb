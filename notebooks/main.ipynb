{
 "cells": [
  {
   "attachments": {},
   "cell_type": "markdown",
   "metadata": {},
   "source": [
    "# Predicción de precio de ordenadores"
   ]
  },
  {
   "attachments": {},
   "cell_type": "markdown",
   "metadata": {},
   "source": [
    "* Importamos librerías"
   ]
  },
  {
   "cell_type": "code",
   "execution_count": 109,
   "metadata": {},
   "outputs": [],
   "source": [
    "# Paquetes numéricos\n",
    "import numpy as np\n",
    "\n",
    "# DataFrames/Procesamiento\n",
    "import pandas as pd\n",
    "\n",
    "# Gráficas\n",
    "import matplotlib.pyplot as plt"
   ]
  },
  {
   "attachments": {},
   "cell_type": "markdown",
   "metadata": {},
   "source": [
    "* Cargamos los datos"
   ]
  },
  {
   "cell_type": "code",
   "execution_count": 110,
   "metadata": {},
   "outputs": [],
   "source": [
    "muestra = pd.read_csv(\"../data/muestra.csv\")\n",
    "test = pd.read_csv(\"../data/test.csv\")\n",
    "train = pd.read_csv(\"../data/train.csv\")"
   ]
  },
  {
   "attachments": {},
   "cell_type": "markdown",
   "metadata": {},
   "source": [
    "## Preparación de datos"
   ]
  },
  {
   "attachments": {},
   "cell_type": "markdown",
   "metadata": {},
   "source": [
    "* Entender los datos: tipos"
   ]
  },
  {
   "cell_type": "code",
   "execution_count": 111,
   "metadata": {},
   "outputs": [
    {
     "data": {
      "text/html": [
       "<div>\n",
       "<style scoped>\n",
       "    .dataframe tbody tr th:only-of-type {\n",
       "        vertical-align: middle;\n",
       "    }\n",
       "\n",
       "    .dataframe tbody tr th {\n",
       "        vertical-align: top;\n",
       "    }\n",
       "\n",
       "    .dataframe thead th {\n",
       "        text-align: right;\n",
       "    }\n",
       "</style>\n",
       "<table border=\"1\" class=\"dataframe\">\n",
       "  <thead>\n",
       "    <tr style=\"text-align: right;\">\n",
       "      <th></th>\n",
       "      <th>Manufacturer</th>\n",
       "      <th>Model Name</th>\n",
       "      <th>Category</th>\n",
       "      <th>Screen Size</th>\n",
       "      <th>Screen</th>\n",
       "      <th>CPU</th>\n",
       "      <th>RAM</th>\n",
       "      <th>Storage</th>\n",
       "      <th>GPU</th>\n",
       "      <th>Operating System</th>\n",
       "      <th>Operating System Version</th>\n",
       "      <th>Weight</th>\n",
       "      <th>Price</th>\n",
       "    </tr>\n",
       "  </thead>\n",
       "  <tbody>\n",
       "    <tr>\n",
       "      <th>0</th>\n",
       "      <td>Apple</td>\n",
       "      <td>MacBook Pro</td>\n",
       "      <td>Ultrabook</td>\n",
       "      <td>13.3\"</td>\n",
       "      <td>IPS Panel Retina Display 2560x1600</td>\n",
       "      <td>Intel Core i5 2.3GHz</td>\n",
       "      <td>8GB</td>\n",
       "      <td>128GB SSD</td>\n",
       "      <td>Intel Iris Plus Graphics 640</td>\n",
       "      <td>macOS</td>\n",
       "      <td>NaN</td>\n",
       "      <td>1.37kg</td>\n",
       "      <td>11912523.48</td>\n",
       "    </tr>\n",
       "    <tr>\n",
       "      <th>1</th>\n",
       "      <td>Apple</td>\n",
       "      <td>Macbook Air</td>\n",
       "      <td>Ultrabook</td>\n",
       "      <td>13.3\"</td>\n",
       "      <td>1440x900</td>\n",
       "      <td>Intel Core i5 1.8GHz</td>\n",
       "      <td>8GB</td>\n",
       "      <td>128GB Flash Storage</td>\n",
       "      <td>Intel HD Graphics 6000</td>\n",
       "      <td>macOS</td>\n",
       "      <td>NaN</td>\n",
       "      <td>1.34kg</td>\n",
       "      <td>7993374.48</td>\n",
       "    </tr>\n",
       "    <tr>\n",
       "      <th>2</th>\n",
       "      <td>HP</td>\n",
       "      <td>250 G6</td>\n",
       "      <td>Notebook</td>\n",
       "      <td>15.6\"</td>\n",
       "      <td>Full HD 1920x1080</td>\n",
       "      <td>Intel Core i5 7200U 2.5GHz</td>\n",
       "      <td>8GB</td>\n",
       "      <td>256GB SSD</td>\n",
       "      <td>Intel HD Graphics 620</td>\n",
       "      <td>No OS</td>\n",
       "      <td>NaN</td>\n",
       "      <td>1.86kg</td>\n",
       "      <td>5112900.00</td>\n",
       "    </tr>\n",
       "  </tbody>\n",
       "</table>\n",
       "</div>"
      ],
      "text/plain": [
       "  Manufacturer   Model Name   Category Screen Size  \\\n",
       "0        Apple  MacBook Pro  Ultrabook       13.3\"   \n",
       "1        Apple  Macbook Air  Ultrabook       13.3\"   \n",
       "2           HP       250 G6   Notebook       15.6\"   \n",
       "\n",
       "                               Screen                         CPU  RAM  \\\n",
       "0  IPS Panel Retina Display 2560x1600        Intel Core i5 2.3GHz  8GB   \n",
       "1                            1440x900        Intel Core i5 1.8GHz  8GB   \n",
       "2                   Full HD 1920x1080  Intel Core i5 7200U 2.5GHz  8GB   \n",
       "\n",
       "               Storage                           GPU Operating System  \\\n",
       "0            128GB SSD  Intel Iris Plus Graphics 640            macOS   \n",
       "1  128GB Flash Storage        Intel HD Graphics 6000            macOS   \n",
       "2            256GB SSD         Intel HD Graphics 620            No OS   \n",
       "\n",
       "  Operating System Version  Weight       Price  \n",
       "0                      NaN  1.37kg 11912523.48  \n",
       "1                      NaN  1.34kg  7993374.48  \n",
       "2                      NaN  1.86kg  5112900.00  "
      ]
     },
     "execution_count": 111,
     "metadata": {},
     "output_type": "execute_result"
    }
   ],
   "source": [
    "train.head(3)"
   ]
  },
  {
   "cell_type": "code",
   "execution_count": 112,
   "metadata": {},
   "outputs": [
    {
     "data": {
      "text/html": [
       "<div>\n",
       "<style scoped>\n",
       "    .dataframe tbody tr th:only-of-type {\n",
       "        vertical-align: middle;\n",
       "    }\n",
       "\n",
       "    .dataframe tbody tr th {\n",
       "        vertical-align: top;\n",
       "    }\n",
       "\n",
       "    .dataframe thead th {\n",
       "        text-align: right;\n",
       "    }\n",
       "</style>\n",
       "<table border=\"1\" class=\"dataframe\">\n",
       "  <thead>\n",
       "    <tr style=\"text-align: right;\">\n",
       "      <th></th>\n",
       "      <th>Manufacturer</th>\n",
       "      <th>Model Name</th>\n",
       "      <th>Category</th>\n",
       "      <th>Screen Size</th>\n",
       "      <th>Screen</th>\n",
       "      <th>CPU</th>\n",
       "      <th>RAM</th>\n",
       "      <th>Storage</th>\n",
       "      <th>GPU</th>\n",
       "      <th>Operating System</th>\n",
       "      <th>Operating System Version</th>\n",
       "      <th>Weight</th>\n",
       "      <th>Price</th>\n",
       "    </tr>\n",
       "  </thead>\n",
       "  <tbody>\n",
       "    <tr>\n",
       "      <th>0</th>\n",
       "      <td>Apple</td>\n",
       "      <td>MacBook Pro</td>\n",
       "      <td>Ultrabook</td>\n",
       "      <td>13.3\"</td>\n",
       "      <td>IPS Panel Retina Display 2560x1600</td>\n",
       "      <td>Intel Core i5 2.3GHz</td>\n",
       "      <td>8GB</td>\n",
       "      <td>128GB SSD</td>\n",
       "      <td>Intel Iris Plus Graphics 640</td>\n",
       "      <td>macOS</td>\n",
       "      <td>NaN</td>\n",
       "      <td>1.37kg</td>\n",
       "      <td>11912523.48</td>\n",
       "    </tr>\n",
       "    <tr>\n",
       "      <th>1</th>\n",
       "      <td>Apple</td>\n",
       "      <td>Macbook Air</td>\n",
       "      <td>Ultrabook</td>\n",
       "      <td>13.3\"</td>\n",
       "      <td>1440x900</td>\n",
       "      <td>Intel Core i5 1.8GHz</td>\n",
       "      <td>8GB</td>\n",
       "      <td>128GB Flash Storage</td>\n",
       "      <td>Intel HD Graphics 6000</td>\n",
       "      <td>macOS</td>\n",
       "      <td>NaN</td>\n",
       "      <td>1.34kg</td>\n",
       "      <td>7993374.48</td>\n",
       "    </tr>\n",
       "    <tr>\n",
       "      <th>2</th>\n",
       "      <td>HP</td>\n",
       "      <td>250 G6</td>\n",
       "      <td>Notebook</td>\n",
       "      <td>15.6\"</td>\n",
       "      <td>Full HD 1920x1080</td>\n",
       "      <td>Intel Core i5 7200U 2.5GHz</td>\n",
       "      <td>8GB</td>\n",
       "      <td>256GB SSD</td>\n",
       "      <td>Intel HD Graphics 620</td>\n",
       "      <td>No OS</td>\n",
       "      <td>NaN</td>\n",
       "      <td>1.86kg</td>\n",
       "      <td>5112900.00</td>\n",
       "    </tr>\n",
       "  </tbody>\n",
       "</table>\n",
       "</div>"
      ],
      "text/plain": [
       "  Manufacturer   Model Name   Category Screen Size  \\\n",
       "0        Apple  MacBook Pro  Ultrabook       13.3\"   \n",
       "1        Apple  Macbook Air  Ultrabook       13.3\"   \n",
       "2           HP       250 G6   Notebook       15.6\"   \n",
       "\n",
       "                               Screen                         CPU  RAM  \\\n",
       "0  IPS Panel Retina Display 2560x1600        Intel Core i5 2.3GHz  8GB   \n",
       "1                            1440x900        Intel Core i5 1.8GHz  8GB   \n",
       "2                   Full HD 1920x1080  Intel Core i5 7200U 2.5GHz  8GB   \n",
       "\n",
       "               Storage                           GPU Operating System  \\\n",
       "0            128GB SSD  Intel Iris Plus Graphics 640            macOS   \n",
       "1  128GB Flash Storage        Intel HD Graphics 6000            macOS   \n",
       "2            256GB SSD         Intel HD Graphics 620            No OS   \n",
       "\n",
       "  Operating System Version  Weight       Price  \n",
       "0                      NaN  1.37kg 11912523.48  \n",
       "1                      NaN  1.34kg  7993374.48  \n",
       "2                      NaN  1.86kg  5112900.00  "
      ]
     },
     "execution_count": 112,
     "metadata": {},
     "output_type": "execute_result"
    }
   ],
   "source": [
    "train.head(3)"
   ]
  },
  {
   "cell_type": "code",
   "execution_count": 113,
   "metadata": {},
   "outputs": [
    {
     "data": {
      "text/plain": [
       "Manufacturer                 object\n",
       "Model Name                   object\n",
       "Category                     object\n",
       "Screen Size                  object\n",
       "Screen                       object\n",
       "CPU                          object\n",
       "RAM                          object\n",
       " Storage                     object\n",
       "GPU                          object\n",
       "Operating System             object\n",
       "Operating System Version     object\n",
       "Weight                       object\n",
       "Price                       float64\n",
       "dtype: object"
      ]
     },
     "execution_count": 113,
     "metadata": {},
     "output_type": "execute_result"
    }
   ],
   "source": [
    "train.dtypes"
   ]
  },
  {
   "cell_type": "code",
   "execution_count": 114,
   "metadata": {},
   "outputs": [
    {
     "data": {
      "text/plain": [
       "Manufacturer                object\n",
       "Model Name                  object\n",
       "Category                    object\n",
       "Screen Size                 object\n",
       "Screen                      object\n",
       "CPU                         object\n",
       "RAM                         object\n",
       " Storage                    object\n",
       "GPU                         object\n",
       "Operating System            object\n",
       "Operating System Version    object\n",
       "Weight                      object\n",
       "dtype: object"
      ]
     },
     "execution_count": 114,
     "metadata": {},
     "output_type": "execute_result"
    }
   ],
   "source": [
    "test.dtypes"
   ]
  },
  {
   "cell_type": "code",
   "execution_count": 115,
   "metadata": {},
   "outputs": [
    {
     "name": "stdout",
     "output_type": "stream",
     "text": [
      "<class 'pandas.core.frame.DataFrame'>\n",
      "RangeIndex: 977 entries, 0 to 976\n",
      "Data columns (total 13 columns):\n",
      " #   Column                    Non-Null Count  Dtype  \n",
      "---  ------                    --------------  -----  \n",
      " 0   Manufacturer              977 non-null    object \n",
      " 1   Model Name                977 non-null    object \n",
      " 2   Category                  977 non-null    object \n",
      " 3   Screen Size               977 non-null    object \n",
      " 4   Screen                    977 non-null    object \n",
      " 5   CPU                       977 non-null    object \n",
      " 6   RAM                       977 non-null    object \n",
      " 7    Storage                  977 non-null    object \n",
      " 8   GPU                       977 non-null    object \n",
      " 9   Operating System          977 non-null    object \n",
      " 10  Operating System Version  841 non-null    object \n",
      " 11  Weight                    977 non-null    object \n",
      " 12  Price                     977 non-null    float64\n",
      "dtypes: float64(1), object(12)\n",
      "memory usage: 780.0 KB\n"
     ]
    }
   ],
   "source": [
    "train.info(memory_usage=\"deep\")"
   ]
  },
  {
   "cell_type": "code",
   "execution_count": 116,
   "metadata": {},
   "outputs": [
    {
     "name": "stdout",
     "output_type": "stream",
     "text": [
      "<class 'pandas.core.frame.DataFrame'>\n",
      "RangeIndex: 325 entries, 0 to 324\n",
      "Data columns (total 12 columns):\n",
      " #   Column                    Non-Null Count  Dtype \n",
      "---  ------                    --------------  ----- \n",
      " 0   Manufacturer              325 non-null    object\n",
      " 1   Model Name                325 non-null    object\n",
      " 2   Category                  325 non-null    object\n",
      " 3   Screen Size               325 non-null    object\n",
      " 4   Screen                    325 non-null    object\n",
      " 5   CPU                       325 non-null    object\n",
      " 6   RAM                       325 non-null    object\n",
      " 7    Storage                  325 non-null    object\n",
      " 8   GPU                       325 non-null    object\n",
      " 9   Operating System          325 non-null    object\n",
      " 10  Operating System Version  291 non-null    object\n",
      " 11  Weight                    325 non-null    object\n",
      "dtypes: object(12)\n",
      "memory usage: 257.1 KB\n"
     ]
    }
   ],
   "source": [
    "test.info(memory_usage=\"deep\")"
   ]
  },
  {
   "cell_type": "code",
   "execution_count": 117,
   "metadata": {},
   "outputs": [],
   "source": [
    "# Eliminar las comillas de los valores en la columna\n",
    "train['Screen Size'] = train['Screen Size'].str.replace('\"', '')\n",
    "# Convertir los valores en la columna en números (tipo de dato float)\n",
    "train['Screen Size'] = train['Screen Size'].astype(float)\n"
   ]
  },
  {
   "cell_type": "code",
   "execution_count": 118,
   "metadata": {},
   "outputs": [],
   "source": [
    "# Eliminar las comillas de los valores en la columna\n",
    "test['Screen Size'] = test['Screen Size'].str.replace('\"', '')\n",
    "# Convertir los valores en la columna en números (tipo de dato float)\n",
    "test['Screen Size'] = test['Screen Size'].astype(float)"
   ]
  },
  {
   "cell_type": "code",
   "execution_count": 119,
   "metadata": {},
   "outputs": [],
   "source": [
    "\n",
    "# Eliminar los kg de los valores en la columna\n",
    "train['Weight'] = train['Weight'].str.replace('kg', '')\n",
    "# Convertir los valores en la columna en números (tipo de dato float)\n",
    "train['Weight'] = train['Weight'].astype(float)"
   ]
  },
  {
   "cell_type": "code",
   "execution_count": 120,
   "metadata": {},
   "outputs": [],
   "source": [
    "\n",
    "# Eliminar los kg de los valores en la columna\n",
    "test['Weight'] = test['Weight'].str.replace('kg', '')\n",
    "# Reemplazar el valor '4s' en la columna 'Weight' con un valor numérico válido\n",
    "test['Weight'] = test['Weight'].replace('4s', '4.0')\n",
    "# Convertir los valores en la columna en números (tipo de dato float)\n",
    "test['Weight'] = test['Weight'].astype(float)"
   ]
  },
  {
   "cell_type": "code",
   "execution_count": 121,
   "metadata": {},
   "outputs": [],
   "source": [
    "# Eliminar los kg de los valores en la columna\n",
    "train['RAM'] = train['RAM'].str.replace('GB', '')\n",
    "# Convertir los valores en la columna en números (tipo de dato float)\n",
    "train['RAM'] = train['RAM'].astype(int)\n"
   ]
  },
  {
   "cell_type": "code",
   "execution_count": 122,
   "metadata": {},
   "outputs": [],
   "source": [
    "# Eliminar los kg de los valores en la columna\n",
    "test['RAM'] = test['RAM'].str.replace('GB', '')\n",
    "# Convertir los valores en la columna en números (tipo de dato float)\n",
    "test['RAM'] = test['RAM'].astype(int)"
   ]
  },
  {
   "cell_type": "code",
   "execution_count": 123,
   "metadata": {},
   "outputs": [],
   "source": [
    "# Renombrar la columna ' Storage'\n",
    "train = train.rename(columns={' Storage': 'Storage'})\n",
    "\n",
    "# Generar one-hot encoding de la columna 'Storage'\n",
    "storage_encoded = pd.get_dummies(train['Storage'], prefix='Storage')\n",
    "\n",
    "# Concatenar las columnas codificadas con el DataFrame original utilizando la función pd.concat()\n",
    "train = pd.concat([train, storage_encoded], axis=1)\n",
    "\n",
    "# Eliminar la columna original 'Storage'\n",
    "train.drop('Storage', axis=1, inplace=True)\n"
   ]
  },
  {
   "cell_type": "code",
   "execution_count": 124,
   "metadata": {},
   "outputs": [],
   "source": [
    "# Renombrar la columna ' Storage'\n",
    "test = test.rename(columns={' Storage': 'Storage'})\n",
    "\n",
    "# Generar one-hot encoding de la columna 'Storage'\n",
    "storage_encoded = pd.get_dummies(test['Storage'], prefix='Storage')\n",
    "\n",
    "# Concatenar las columnas codificadas con el DataFrame original utilizando la función pd.concat()\n",
    "test = pd.concat([test, storage_encoded], axis=1)\n",
    "\n",
    "# Eliminar la columna original 'Storage'\n",
    "test.drop('Storage', axis=1, inplace=True)\n"
   ]
  },
  {
   "cell_type": "code",
   "execution_count": 125,
   "metadata": {},
   "outputs": [],
   "source": [
    "\"\"\"Utiliza la función pd.get_dummies() de Pandas para aplicar la codificación one-hot.  \n",
    "Esta función creará nuevas columnas binarias para cada categoría única en la columna GPU.\"\"\"\n",
    "\n",
    "gpu_encoded = pd.get_dummies(train['GPU'], prefix='GPU')\n"
   ]
  },
  {
   "cell_type": "code",
   "execution_count": 126,
   "metadata": {},
   "outputs": [],
   "source": [
    "\"\"\"Utiliza la función pd.get_dummies() de Pandas para aplicar la codificación one-hot.  \n",
    "Esta función creará nuevas columnas binarias para cada categoría única en la columna GPU.\"\"\"\n",
    "\n",
    "gpu_encoded = pd.get_dummies(test['GPU'], prefix='GPU')\n"
   ]
  },
  {
   "cell_type": "code",
   "execution_count": 127,
   "metadata": {},
   "outputs": [],
   "source": [
    "#concatenar las columnas codificadas con tu DataFrame original utilizando la función pd.concat()\n",
    "train = pd.concat([train, gpu_encoded], axis=1)\n",
    "\n"
   ]
  },
  {
   "cell_type": "code",
   "execution_count": 128,
   "metadata": {},
   "outputs": [],
   "source": [
    "#concatenar las columnas codificadas con tu DataFrame original utilizando la función pd.concat()\n",
    "test = pd.concat([test, gpu_encoded], axis=1)\n"
   ]
  },
  {
   "cell_type": "code",
   "execution_count": 129,
   "metadata": {},
   "outputs": [],
   "source": [
    "train.drop('GPU', axis=1, inplace=True)"
   ]
  },
  {
   "cell_type": "code",
   "execution_count": 130,
   "metadata": {},
   "outputs": [],
   "source": [
    "test.drop('GPU', axis=1, inplace=True)"
   ]
  },
  {
   "cell_type": "code",
   "execution_count": 131,
   "metadata": {},
   "outputs": [
    {
     "data": {
      "text/plain": [
       "0      IPS Panel Retina Display 2560x1600\n",
       "1                                1440x900\n",
       "2                       Full HD 1920x1080\n",
       "3      IPS Panel Retina Display 2880x1800\n",
       "4      IPS Panel Retina Display 2560x1600\n",
       "                      ...                \n",
       "972                     Full HD 1920x1080\n",
       "973                     Full HD 1920x1080\n",
       "974                     Full HD 1920x1080\n",
       "975           IPS Panel Full HD 1920x1080\n",
       "976                              1366x768\n",
       "Name: Screen, Length: 977, dtype: object"
      ]
     },
     "execution_count": 131,
     "metadata": {},
     "output_type": "execute_result"
    }
   ],
   "source": [
    "train[\"Screen\"]"
   ]
  },
  {
   "cell_type": "code",
   "execution_count": 132,
   "metadata": {},
   "outputs": [
    {
     "data": {
      "text/plain": [
       "0                                        1366x768\n",
       "1                               Full HD 1920x1080\n",
       "2       IPS Panel Full HD / Touchscreen 1920x1080\n",
       "3                               Full HD 1920x1080\n",
       "4                               Full HD 1920x1080\n",
       "                          ...                    \n",
       "320     IPS Panel Full HD / Touchscreen 1920x1080\n",
       "321    IPS Panel Quad HD+ / Touchscreen 3200x1800\n",
       "322                                      1366x768\n",
       "323                                      1366x768\n",
       "324                                      1366x768\n",
       "Name: Screen, Length: 325, dtype: object"
      ]
     },
     "execution_count": 132,
     "metadata": {},
     "output_type": "execute_result"
    }
   ],
   "source": [
    "test[\"Screen\"]"
   ]
  },
  {
   "cell_type": "code",
   "execution_count": 133,
   "metadata": {},
   "outputs": [],
   "source": [
    "\n",
    "# Paso 1: Extraer la resolución de pantalla numérica\n",
    "resolution = train['Screen'].str.extract('(\\d+.\\d+)x(\\d+.\\d+)')\n",
    "train['Resolution_Width'] = pd.to_numeric(resolution[0])\n",
    "train['Resolution_Height'] = pd.to_numeric(resolution[1])\n",
    "\n",
    "# Paso 2: Convertir los valores de resolución en formato numérico\n",
    "train['Resolution_Width'] = pd.to_numeric(train['Resolution_Width'])\n",
    "train['Resolution_Height'] = pd.to_numeric(train['Resolution_Height'])\n",
    "\n",
    "# Paso 3: Eliminar la columna original \"Screen\"\n",
    "train = train.drop('Screen', axis=1)"
   ]
  },
  {
   "cell_type": "code",
   "execution_count": 134,
   "metadata": {},
   "outputs": [],
   "source": [
    "\n",
    "# Paso 1: Extraer la resolución de pantalla numérica\n",
    "resolution = test['Screen'].str.extract('(\\d+.\\d+)x(\\d+.\\d+)')\n",
    "test['Resolution_Width'] = pd.to_numeric(resolution[0])\n",
    "test['Resolution_Height'] = pd.to_numeric(resolution[1])\n",
    "\n",
    "# Paso 2: Convertir los valores de resolución en formato numérico\n",
    "test['Resolution_Width'] = pd.to_numeric(test['Resolution_Width'])\n",
    "test['Resolution_Height'] = pd.to_numeric(test['Resolution_Height'])\n",
    "\n",
    "# Paso 3: Eliminar la columna original \"Screen\"\n",
    "test = test.drop('Screen', axis=1)"
   ]
  },
  {
   "cell_type": "code",
   "execution_count": 135,
   "metadata": {},
   "outputs": [],
   "source": [
    "import re\n",
    "\n",
    "# Función para extraer la marca del procesador\n",
    "def extract_brand(cpu):\n",
    "    brand = re.search(r'([A-Za-z]+)', cpu)\n",
    "    if brand:\n",
    "        return brand.group()\n",
    "    else:\n",
    "        return None\n",
    "\n",
    "# Función para extraer la velocidad del procesador\n",
    "def extract_speed(cpu):\n",
    "    speed = re.search(r'(\\d+\\.*\\d*)GHz', cpu)\n",
    "    if speed:\n",
    "        return float(speed.group(1))\n",
    "    else:\n",
    "        return None\n",
    "\n",
    "# Aplicar las funciones a la columna de CPU\n",
    "train['CPU_Brand'] = train['CPU'].apply(extract_brand)\n",
    "train['CPU_Speed'] = train['CPU'].apply(extract_speed)\n",
    "\n",
    "# Eliminar la columna original \"CPU\"\n",
    "train = train.drop('CPU', axis=1)\n"
   ]
  },
  {
   "cell_type": "code",
   "execution_count": 136,
   "metadata": {},
   "outputs": [],
   "source": [
    "# Función para extraer la marca del procesador\n",
    "def extract_brand(cpu):\n",
    "    brand = re.search(r'([A-Za-z]+)', cpu)\n",
    "    if brand:\n",
    "        return brand.group()\n",
    "    else:\n",
    "        return None\n",
    "\n",
    "# Función para extraer la velocidad del procesador\n",
    "def extract_speed(cpu):\n",
    "    speed = re.search(r'(\\d+\\.*\\d*)GHz', cpu)\n",
    "    if speed:\n",
    "        return float(speed.group(1))\n",
    "    else:\n",
    "        return None\n",
    "\n",
    "# Aplicar las funciones a la columna de CPU\n",
    "test['CPU_Brand'] = test['CPU'].apply(extract_brand)\n",
    "test['CPU_Speed'] = test['CPU'].apply(extract_speed)\n",
    "\n",
    "# Eliminar la columna original \"CPU\"\n",
    "test = test.drop('CPU', axis=1)"
   ]
  },
  {
   "cell_type": "code",
   "execution_count": 137,
   "metadata": {},
   "outputs": [
    {
     "data": {
      "text/html": [
       "<div>\n",
       "<style scoped>\n",
       "    .dataframe tbody tr th:only-of-type {\n",
       "        vertical-align: middle;\n",
       "    }\n",
       "\n",
       "    .dataframe tbody tr th {\n",
       "        vertical-align: top;\n",
       "    }\n",
       "\n",
       "    .dataframe thead th {\n",
       "        text-align: right;\n",
       "    }\n",
       "</style>\n",
       "<table border=\"1\" class=\"dataframe\">\n",
       "  <thead>\n",
       "    <tr style=\"text-align: right;\">\n",
       "      <th></th>\n",
       "      <th>Manufacturer</th>\n",
       "      <th>Model Name</th>\n",
       "      <th>Category</th>\n",
       "      <th>Screen Size</th>\n",
       "      <th>RAM</th>\n",
       "      <th>Operating System</th>\n",
       "      <th>Operating System Version</th>\n",
       "      <th>Weight</th>\n",
       "      <th>Price</th>\n",
       "      <th>Storage_128GB Flash Storage</th>\n",
       "      <th>...</th>\n",
       "      <th>GPU_Nvidia GeForce GTX 980</th>\n",
       "      <th>GPU_Nvidia GeForce GTX 980M</th>\n",
       "      <th>GPU_Nvidia Quadro 3000M</th>\n",
       "      <th>GPU_Nvidia Quadro M1000M</th>\n",
       "      <th>GPU_Nvidia Quadro M3000M</th>\n",
       "      <th>GPU_Nvidia Quadro M500M</th>\n",
       "      <th>Resolution_Width</th>\n",
       "      <th>Resolution_Height</th>\n",
       "      <th>CPU_Brand</th>\n",
       "      <th>CPU_Speed</th>\n",
       "    </tr>\n",
       "  </thead>\n",
       "  <tbody>\n",
       "    <tr>\n",
       "      <th>0</th>\n",
       "      <td>Apple</td>\n",
       "      <td>MacBook Pro</td>\n",
       "      <td>Ultrabook</td>\n",
       "      <td>13.30</td>\n",
       "      <td>8</td>\n",
       "      <td>macOS</td>\n",
       "      <td>NaN</td>\n",
       "      <td>1.37</td>\n",
       "      <td>11912523.48</td>\n",
       "      <td>0</td>\n",
       "      <td>...</td>\n",
       "      <td>0.00</td>\n",
       "      <td>0.00</td>\n",
       "      <td>0.00</td>\n",
       "      <td>0.00</td>\n",
       "      <td>0.00</td>\n",
       "      <td>0.00</td>\n",
       "      <td>2560</td>\n",
       "      <td>1600</td>\n",
       "      <td>Intel</td>\n",
       "      <td>2.30</td>\n",
       "    </tr>\n",
       "    <tr>\n",
       "      <th>1</th>\n",
       "      <td>Apple</td>\n",
       "      <td>Macbook Air</td>\n",
       "      <td>Ultrabook</td>\n",
       "      <td>13.30</td>\n",
       "      <td>8</td>\n",
       "      <td>macOS</td>\n",
       "      <td>NaN</td>\n",
       "      <td>1.34</td>\n",
       "      <td>7993374.48</td>\n",
       "      <td>1</td>\n",
       "      <td>...</td>\n",
       "      <td>0.00</td>\n",
       "      <td>0.00</td>\n",
       "      <td>0.00</td>\n",
       "      <td>0.00</td>\n",
       "      <td>0.00</td>\n",
       "      <td>0.00</td>\n",
       "      <td>1440</td>\n",
       "      <td>900</td>\n",
       "      <td>Intel</td>\n",
       "      <td>1.80</td>\n",
       "    </tr>\n",
       "    <tr>\n",
       "      <th>2</th>\n",
       "      <td>HP</td>\n",
       "      <td>250 G6</td>\n",
       "      <td>Notebook</td>\n",
       "      <td>15.60</td>\n",
       "      <td>8</td>\n",
       "      <td>No OS</td>\n",
       "      <td>NaN</td>\n",
       "      <td>1.86</td>\n",
       "      <td>5112900.00</td>\n",
       "      <td>0</td>\n",
       "      <td>...</td>\n",
       "      <td>0.00</td>\n",
       "      <td>0.00</td>\n",
       "      <td>0.00</td>\n",
       "      <td>0.00</td>\n",
       "      <td>0.00</td>\n",
       "      <td>0.00</td>\n",
       "      <td>1920</td>\n",
       "      <td>1080</td>\n",
       "      <td>Intel</td>\n",
       "      <td>2.50</td>\n",
       "    </tr>\n",
       "  </tbody>\n",
       "</table>\n",
       "<p>3 rows × 103 columns</p>\n",
       "</div>"
      ],
      "text/plain": [
       "  Manufacturer   Model Name   Category  Screen Size  RAM Operating System  \\\n",
       "0        Apple  MacBook Pro  Ultrabook        13.30    8            macOS   \n",
       "1        Apple  Macbook Air  Ultrabook        13.30    8            macOS   \n",
       "2           HP       250 G6   Notebook        15.60    8            No OS   \n",
       "\n",
       "  Operating System Version  Weight       Price  Storage_128GB Flash Storage  \\\n",
       "0                      NaN    1.37 11912523.48                            0   \n",
       "1                      NaN    1.34  7993374.48                            1   \n",
       "2                      NaN    1.86  5112900.00                            0   \n",
       "\n",
       "   ...  GPU_Nvidia GeForce GTX 980   GPU_Nvidia GeForce GTX 980M  \\\n",
       "0  ...                         0.00                         0.00   \n",
       "1  ...                         0.00                         0.00   \n",
       "2  ...                         0.00                         0.00   \n",
       "\n",
       "   GPU_Nvidia Quadro 3000M  GPU_Nvidia Quadro M1000M  \\\n",
       "0                     0.00                      0.00   \n",
       "1                     0.00                      0.00   \n",
       "2                     0.00                      0.00   \n",
       "\n",
       "   GPU_Nvidia Quadro M3000M  GPU_Nvidia Quadro M500M  Resolution_Width  \\\n",
       "0                      0.00                     0.00              2560   \n",
       "1                      0.00                     0.00              1440   \n",
       "2                      0.00                     0.00              1920   \n",
       "\n",
       "   Resolution_Height  CPU_Brand  CPU_Speed  \n",
       "0               1600      Intel       2.30  \n",
       "1                900      Intel       1.80  \n",
       "2               1080      Intel       2.50  \n",
       "\n",
       "[3 rows x 103 columns]"
      ]
     },
     "execution_count": 137,
     "metadata": {},
     "output_type": "execute_result"
    }
   ],
   "source": [
    "# Verificar el resultado\n",
    "train.head(3)"
   ]
  },
  {
   "cell_type": "code",
   "execution_count": 138,
   "metadata": {},
   "outputs": [
    {
     "data": {
      "text/html": [
       "<div>\n",
       "<style scoped>\n",
       "    .dataframe tbody tr th:only-of-type {\n",
       "        vertical-align: middle;\n",
       "    }\n",
       "\n",
       "    .dataframe tbody tr th {\n",
       "        vertical-align: top;\n",
       "    }\n",
       "\n",
       "    .dataframe thead th {\n",
       "        text-align: right;\n",
       "    }\n",
       "</style>\n",
       "<table border=\"1\" class=\"dataframe\">\n",
       "  <thead>\n",
       "    <tr style=\"text-align: right;\">\n",
       "      <th></th>\n",
       "      <th>Manufacturer</th>\n",
       "      <th>Model Name</th>\n",
       "      <th>Category</th>\n",
       "      <th>Screen Size</th>\n",
       "      <th>RAM</th>\n",
       "      <th>Operating System</th>\n",
       "      <th>Operating System Version</th>\n",
       "      <th>Weight</th>\n",
       "      <th>Storage_128GB SSD</th>\n",
       "      <th>Storage_128GB SSD +  1TB HDD</th>\n",
       "      <th>...</th>\n",
       "      <th>GPU_Nvidia GeForce GTX 980</th>\n",
       "      <th>GPU_Nvidia GeForce GTX 980M</th>\n",
       "      <th>GPU_Nvidia Quadro 3000M</th>\n",
       "      <th>GPU_Nvidia Quadro M1000M</th>\n",
       "      <th>GPU_Nvidia Quadro M3000M</th>\n",
       "      <th>GPU_Nvidia Quadro M500M</th>\n",
       "      <th>Resolution_Width</th>\n",
       "      <th>Resolution_Height</th>\n",
       "      <th>CPU_Brand</th>\n",
       "      <th>CPU_Speed</th>\n",
       "    </tr>\n",
       "  </thead>\n",
       "  <tbody>\n",
       "    <tr>\n",
       "      <th>0</th>\n",
       "      <td>HP</td>\n",
       "      <td>15-bs053od (i7-7500U/6GB/1TB/W10)</td>\n",
       "      <td>Notebook</td>\n",
       "      <td>15.60</td>\n",
       "      <td>6</td>\n",
       "      <td>Windows</td>\n",
       "      <td>10</td>\n",
       "      <td>2.04</td>\n",
       "      <td>0</td>\n",
       "      <td>0</td>\n",
       "      <td>...</td>\n",
       "      <td>0</td>\n",
       "      <td>0</td>\n",
       "      <td>0</td>\n",
       "      <td>0</td>\n",
       "      <td>0</td>\n",
       "      <td>0</td>\n",
       "      <td>1366</td>\n",
       "      <td>768</td>\n",
       "      <td>Intel</td>\n",
       "      <td>2.70</td>\n",
       "    </tr>\n",
       "    <tr>\n",
       "      <th>1</th>\n",
       "      <td>Asus</td>\n",
       "      <td>Rog GL753VE-DS74</td>\n",
       "      <td>Gaming</td>\n",
       "      <td>17.30</td>\n",
       "      <td>16</td>\n",
       "      <td>Windows</td>\n",
       "      <td>10</td>\n",
       "      <td>2.99</td>\n",
       "      <td>0</td>\n",
       "      <td>0</td>\n",
       "      <td>...</td>\n",
       "      <td>0</td>\n",
       "      <td>0</td>\n",
       "      <td>0</td>\n",
       "      <td>0</td>\n",
       "      <td>0</td>\n",
       "      <td>0</td>\n",
       "      <td>1920</td>\n",
       "      <td>1080</td>\n",
       "      <td>Intel</td>\n",
       "      <td>2.80</td>\n",
       "    </tr>\n",
       "    <tr>\n",
       "      <th>2</th>\n",
       "      <td>Dell</td>\n",
       "      <td>Inspiron 7579</td>\n",
       "      <td>2 in 1 Convertible</td>\n",
       "      <td>15.60</td>\n",
       "      <td>12</td>\n",
       "      <td>Windows</td>\n",
       "      <td>10</td>\n",
       "      <td>2.19</td>\n",
       "      <td>0</td>\n",
       "      <td>0</td>\n",
       "      <td>...</td>\n",
       "      <td>0</td>\n",
       "      <td>0</td>\n",
       "      <td>0</td>\n",
       "      <td>0</td>\n",
       "      <td>0</td>\n",
       "      <td>0</td>\n",
       "      <td>1920</td>\n",
       "      <td>1080</td>\n",
       "      <td>Intel</td>\n",
       "      <td>2.70</td>\n",
       "    </tr>\n",
       "  </tbody>\n",
       "</table>\n",
       "<p>3 rows × 88 columns</p>\n",
       "</div>"
      ],
      "text/plain": [
       "  Manufacturer                         Model Name            Category  \\\n",
       "0           HP  15-bs053od (i7-7500U/6GB/1TB/W10)            Notebook   \n",
       "1         Asus                   Rog GL753VE-DS74              Gaming   \n",
       "2         Dell                      Inspiron 7579  2 in 1 Convertible   \n",
       "\n",
       "   Screen Size  RAM Operating System Operating System Version  Weight  \\\n",
       "0        15.60    6          Windows                       10    2.04   \n",
       "1        17.30   16          Windows                       10    2.99   \n",
       "2        15.60   12          Windows                       10    2.19   \n",
       "\n",
       "   Storage_128GB SSD  Storage_128GB SSD +  1TB HDD  ...  \\\n",
       "0                  0                             0  ...   \n",
       "1                  0                             0  ...   \n",
       "2                  0                             0  ...   \n",
       "\n",
       "   GPU_Nvidia GeForce GTX 980   GPU_Nvidia GeForce GTX 980M  \\\n",
       "0                            0                            0   \n",
       "1                            0                            0   \n",
       "2                            0                            0   \n",
       "\n",
       "   GPU_Nvidia Quadro 3000M  GPU_Nvidia Quadro M1000M  \\\n",
       "0                        0                         0   \n",
       "1                        0                         0   \n",
       "2                        0                         0   \n",
       "\n",
       "   GPU_Nvidia Quadro M3000M  GPU_Nvidia Quadro M500M  Resolution_Width  \\\n",
       "0                         0                        0              1366   \n",
       "1                         0                        0              1920   \n",
       "2                         0                        0              1920   \n",
       "\n",
       "   Resolution_Height  CPU_Brand  CPU_Speed  \n",
       "0                768      Intel       2.70  \n",
       "1               1080      Intel       2.80  \n",
       "2               1080      Intel       2.70  \n",
       "\n",
       "[3 rows x 88 columns]"
      ]
     },
     "execution_count": 138,
     "metadata": {},
     "output_type": "execute_result"
    }
   ],
   "source": [
    "# Verificar el resultado\n",
    "test.head(3)"
   ]
  },
  {
   "cell_type": "code",
   "execution_count": 139,
   "metadata": {},
   "outputs": [
    {
     "data": {
      "text/plain": [
       "Windows      837\n",
       "No OS         52\n",
       "Linux         48\n",
       "Chrome OS     22\n",
       "macOS         13\n",
       "Mac OS         4\n",
       "Android        1\n",
       "Name: Operating System, dtype: int64"
      ]
     },
     "execution_count": 139,
     "metadata": {},
     "output_type": "execute_result"
    }
   ],
   "source": [
    "train[\"Operating System\"].value_counts()"
   ]
  },
  {
   "cell_type": "code",
   "execution_count": 140,
   "metadata": {},
   "outputs": [
    {
     "data": {
      "text/plain": [
       "Windows      287\n",
       "No OS         14\n",
       "Linux         14\n",
       "Chrome OS      5\n",
       "Mac OS         4\n",
       "Android        1\n",
       "Name: Operating System, dtype: int64"
      ]
     },
     "execution_count": 140,
     "metadata": {},
     "output_type": "execute_result"
    }
   ],
   "source": [
    "test[\"Operating System\"].value_counts()"
   ]
  },
  {
   "cell_type": "code",
   "execution_count": 141,
   "metadata": {},
   "outputs": [],
   "source": [
    "\"\"\"Utiliza la función pd.get_dummies() de Pandas para aplicar la codificación one-hot.  \n",
    "Esta función creará nuevas columnas binarias para cada categoría única en la columna Operating System.\"\"\"\n",
    "\n",
    "gpu_encoded = pd.get_dummies(train['Operating System'], prefix='Operating System')\n",
    "\n",
    "#concatenar las columnas codificadas con tu DataFrame original utilizando la función pd.concat()\n",
    "train = pd.concat([train, gpu_encoded], axis=1)\n",
    "\n",
    "#borramos la columna\n",
    "train.drop('Operating System', axis=1, inplace=True)"
   ]
  },
  {
   "cell_type": "code",
   "execution_count": 142,
   "metadata": {},
   "outputs": [],
   "source": [
    "\"\"\"Utiliza la función pd.get_dummies() de Pandas para aplicar la codificación one-hot.  \n",
    "Esta función creará nuevas columnas binarias para cada categoría única en la columna Operating System.\"\"\"\n",
    "\n",
    "gpu_encoded = pd.get_dummies(test['Operating System'], prefix='Operating System')\n",
    "\n",
    "#concatenar las columnas codificadas con tu DataFrame original utilizando la función pd.concat()\n",
    "test = pd.concat([test, gpu_encoded], axis=1)\n",
    "\n",
    "#borramos la columna\n",
    "test.drop('Operating System', axis=1, inplace=True)"
   ]
  },
  {
   "cell_type": "code",
   "execution_count": 143,
   "metadata": {},
   "outputs": [
    {
     "data": {
      "text/plain": [
       "XPS 13                22\n",
       "Inspiron 3567         20\n",
       "250 G6                18\n",
       "Inspiron 5570         18\n",
       "Vostro 3568           15\n",
       "                      ..\n",
       "Rog GL753VE-GC070T     1\n",
       "Rog GL753VD-GC042T     1\n",
       "Precision 5520         1\n",
       "Precision 3510         1\n",
       "ThinkPad T460          1\n",
       "Name: Model Name, Length: 488, dtype: int64"
      ]
     },
     "execution_count": 143,
     "metadata": {},
     "output_type": "execute_result"
    }
   ],
   "source": [
    "train[\"Model Name\"].value_counts()"
   ]
  },
  {
   "cell_type": "code",
   "execution_count": 144,
   "metadata": {},
   "outputs": [
    {
     "data": {
      "text/plain": [
       "Inspiron 3567         9\n",
       "XPS 13                8\n",
       "EliteBook 840         7\n",
       "ProBook 450           6\n",
       "Inspiron 5567         6\n",
       "                     ..\n",
       "Rog GL702VM-GC354T    1\n",
       "Inspiron 5370         1\n",
       "Aspire F5-573G        1\n",
       "GS70 Stealth          1\n",
       "EliteBook 1030        1\n",
       "Name: Model Name, Length: 197, dtype: int64"
      ]
     },
     "execution_count": 144,
     "metadata": {},
     "output_type": "execute_result"
    }
   ],
   "source": [
    "test[\"Model Name\"].value_counts()"
   ]
  },
  {
   "cell_type": "code",
   "execution_count": 145,
   "metadata": {},
   "outputs": [],
   "source": [
    "\"\"\"Utiliza la función pd.get_dummies() de Pandas para aplicar la codificación one-hot.  \n",
    "Esta función creará nuevas columnas binarias para cada categoría única en la columna Model Name.\"\"\"\n",
    "\n",
    "gpu_encoded = pd.get_dummies(train['Model Name'], prefix='Model Name')\n",
    "\n",
    "#concatenar las columnas codificadas con tu DataFrame original utilizando la función pd.concat()\n",
    "train = pd.concat([train, gpu_encoded], axis=1)\n",
    "\n",
    "#borramos la columna\n",
    "train.drop('Model Name', axis=1, inplace=True)"
   ]
  },
  {
   "cell_type": "code",
   "execution_count": 146,
   "metadata": {},
   "outputs": [],
   "source": [
    "\"\"\"Utiliza la función pd.get_dummies() de Pandas para aplicar la codificación one-hot.  \n",
    "Esta función creará nuevas columnas binarias para cada categoría única en la columna Model Name.\"\"\"\n",
    "\n",
    "gpu_encoded = pd.get_dummies(test['Model Name'], prefix='Model Name')\n",
    "\n",
    "#concatenar las columnas codificadas con tu DataFrame original utilizando la función pd.concat()\n",
    "test = pd.concat([test, gpu_encoded], axis=1)\n",
    "\n",
    "#borramos la columna\n",
    "test.drop('Model Name', axis=1, inplace=True)"
   ]
  },
  {
   "cell_type": "code",
   "execution_count": 147,
   "metadata": {},
   "outputs": [
    {
     "data": {
      "text/plain": [
       "Notebook              549\n",
       "Ultrabook             152\n",
       "Gaming                150\n",
       "2 in 1 Convertible     85\n",
       "Workstation            24\n",
       "Netbook                17\n",
       "Name: Category, dtype: int64"
      ]
     },
     "execution_count": 147,
     "metadata": {},
     "output_type": "execute_result"
    }
   ],
   "source": [
    "train[\"Category\"].value_counts()"
   ]
  },
  {
   "cell_type": "code",
   "execution_count": 148,
   "metadata": {},
   "outputs": [
    {
     "data": {
      "text/plain": [
       "Notebook              178\n",
       "Gaming                 55\n",
       "Ultrabook              44\n",
       "2 in 1 Convertible     35\n",
       "Netbook                 8\n",
       "Workstation             5\n",
       "Name: Category, dtype: int64"
      ]
     },
     "execution_count": 148,
     "metadata": {},
     "output_type": "execute_result"
    }
   ],
   "source": [
    "test[\"Category\"].value_counts()"
   ]
  },
  {
   "cell_type": "code",
   "execution_count": 149,
   "metadata": {},
   "outputs": [],
   "source": [
    "\"\"\"Utiliza la función pd.get_dummies() de Pandas para aplicar la codificación one-hot.  \n",
    "Esta función creará nuevas columnas binarias para cada categoría única en la columna Category.\"\"\"\n",
    "\n",
    "gpu_encoded = pd.get_dummies(train['Category'], prefix='Category')\n",
    "\n",
    "#concatenar las columnas codificadas con tu DataFrame original utilizando la función pd.concat()\n",
    "train = pd.concat([train, gpu_encoded], axis=1)\n",
    "\n",
    "#borramos la columna\n",
    "train.drop('Category', axis=1, inplace=True)"
   ]
  },
  {
   "cell_type": "code",
   "execution_count": 150,
   "metadata": {},
   "outputs": [],
   "source": [
    "\"\"\"Utiliza la función pd.get_dummies() de Pandas para aplicar la codificación one-hot.  \n",
    "Esta función creará nuevas columnas binarias para cada categoría única en la columna Category.\"\"\"\n",
    "\n",
    "gpu_encoded = pd.get_dummies(test['Category'], prefix='Category')\n",
    "\n",
    "#concatenar las columnas codificadas con tu DataFrame original utilizando la función pd.concat()\n",
    "test = pd.concat([test, gpu_encoded], axis=1)\n",
    "\n",
    "#borramos la columna\n",
    "test.drop('Category', axis=1, inplace=True)"
   ]
  },
  {
   "cell_type": "code",
   "execution_count": 151,
   "metadata": {},
   "outputs": [
    {
     "data": {
      "text/html": [
       "<div>\n",
       "<style scoped>\n",
       "    .dataframe tbody tr th:only-of-type {\n",
       "        vertical-align: middle;\n",
       "    }\n",
       "\n",
       "    .dataframe tbody tr th {\n",
       "        vertical-align: top;\n",
       "    }\n",
       "\n",
       "    .dataframe thead th {\n",
       "        text-align: right;\n",
       "    }\n",
       "</style>\n",
       "<table border=\"1\" class=\"dataframe\">\n",
       "  <thead>\n",
       "    <tr style=\"text-align: right;\">\n",
       "      <th></th>\n",
       "      <th>Manufacturer</th>\n",
       "      <th>Screen Size</th>\n",
       "      <th>RAM</th>\n",
       "      <th>Operating System Version</th>\n",
       "      <th>Weight</th>\n",
       "      <th>Price</th>\n",
       "      <th>Storage_128GB Flash Storage</th>\n",
       "      <th>Storage_128GB HDD</th>\n",
       "      <th>Storage_128GB SSD</th>\n",
       "      <th>Storage_128GB SSD +  1TB HDD</th>\n",
       "      <th>...</th>\n",
       "      <th>Model Name_Zenbook UX390UA</th>\n",
       "      <th>Model Name_Zenbook UX410UA-GV027T</th>\n",
       "      <th>Model Name_Zenbook UX430UA</th>\n",
       "      <th>Model Name_Zenbook UX510UW-FI095T</th>\n",
       "      <th>Category_2 in 1 Convertible</th>\n",
       "      <th>Category_Gaming</th>\n",
       "      <th>Category_Netbook</th>\n",
       "      <th>Category_Notebook</th>\n",
       "      <th>Category_Ultrabook</th>\n",
       "      <th>Category_Workstation</th>\n",
       "    </tr>\n",
       "  </thead>\n",
       "  <tbody>\n",
       "    <tr>\n",
       "      <th>0</th>\n",
       "      <td>Apple</td>\n",
       "      <td>13.30</td>\n",
       "      <td>8</td>\n",
       "      <td>NaN</td>\n",
       "      <td>1.37</td>\n",
       "      <td>11912523.48</td>\n",
       "      <td>0</td>\n",
       "      <td>0</td>\n",
       "      <td>1</td>\n",
       "      <td>0</td>\n",
       "      <td>...</td>\n",
       "      <td>0</td>\n",
       "      <td>0</td>\n",
       "      <td>0</td>\n",
       "      <td>0</td>\n",
       "      <td>0</td>\n",
       "      <td>0</td>\n",
       "      <td>0</td>\n",
       "      <td>0</td>\n",
       "      <td>1</td>\n",
       "      <td>0</td>\n",
       "    </tr>\n",
       "    <tr>\n",
       "      <th>1</th>\n",
       "      <td>Apple</td>\n",
       "      <td>13.30</td>\n",
       "      <td>8</td>\n",
       "      <td>NaN</td>\n",
       "      <td>1.34</td>\n",
       "      <td>7993374.48</td>\n",
       "      <td>1</td>\n",
       "      <td>0</td>\n",
       "      <td>0</td>\n",
       "      <td>0</td>\n",
       "      <td>...</td>\n",
       "      <td>0</td>\n",
       "      <td>0</td>\n",
       "      <td>0</td>\n",
       "      <td>0</td>\n",
       "      <td>0</td>\n",
       "      <td>0</td>\n",
       "      <td>0</td>\n",
       "      <td>0</td>\n",
       "      <td>1</td>\n",
       "      <td>0</td>\n",
       "    </tr>\n",
       "    <tr>\n",
       "      <th>2</th>\n",
       "      <td>HP</td>\n",
       "      <td>15.60</td>\n",
       "      <td>8</td>\n",
       "      <td>NaN</td>\n",
       "      <td>1.86</td>\n",
       "      <td>5112900.00</td>\n",
       "      <td>0</td>\n",
       "      <td>0</td>\n",
       "      <td>0</td>\n",
       "      <td>0</td>\n",
       "      <td>...</td>\n",
       "      <td>0</td>\n",
       "      <td>0</td>\n",
       "      <td>0</td>\n",
       "      <td>0</td>\n",
       "      <td>0</td>\n",
       "      <td>0</td>\n",
       "      <td>0</td>\n",
       "      <td>1</td>\n",
       "      <td>0</td>\n",
       "      <td>0</td>\n",
       "    </tr>\n",
       "  </tbody>\n",
       "</table>\n",
       "<p>3 rows × 601 columns</p>\n",
       "</div>"
      ],
      "text/plain": [
       "  Manufacturer  Screen Size  RAM Operating System Version  Weight       Price  \\\n",
       "0        Apple        13.30    8                      NaN    1.37 11912523.48   \n",
       "1        Apple        13.30    8                      NaN    1.34  7993374.48   \n",
       "2           HP        15.60    8                      NaN    1.86  5112900.00   \n",
       "\n",
       "   Storage_128GB Flash Storage  Storage_128GB HDD  Storage_128GB SSD  \\\n",
       "0                            0                  0                  1   \n",
       "1                            1                  0                  0   \n",
       "2                            0                  0                  0   \n",
       "\n",
       "   Storage_128GB SSD +  1TB HDD  ...  Model Name_Zenbook UX390UA  \\\n",
       "0                             0  ...                           0   \n",
       "1                             0  ...                           0   \n",
       "2                             0  ...                           0   \n",
       "\n",
       "   Model Name_Zenbook UX410UA-GV027T  Model Name_Zenbook UX430UA  \\\n",
       "0                                  0                           0   \n",
       "1                                  0                           0   \n",
       "2                                  0                           0   \n",
       "\n",
       "   Model Name_Zenbook UX510UW-FI095T  Category_2 in 1 Convertible  \\\n",
       "0                                  0                            0   \n",
       "1                                  0                            0   \n",
       "2                                  0                            0   \n",
       "\n",
       "   Category_Gaming  Category_Netbook  Category_Notebook  Category_Ultrabook  \\\n",
       "0                0                 0                  0                   1   \n",
       "1                0                 0                  0                   1   \n",
       "2                0                 0                  1                   0   \n",
       "\n",
       "   Category_Workstation  \n",
       "0                     0  \n",
       "1                     0  \n",
       "2                     0  \n",
       "\n",
       "[3 rows x 601 columns]"
      ]
     },
     "execution_count": 151,
     "metadata": {},
     "output_type": "execute_result"
    }
   ],
   "source": [
    "train.head(3)"
   ]
  },
  {
   "cell_type": "code",
   "execution_count": 152,
   "metadata": {},
   "outputs": [
    {
     "data": {
      "text/html": [
       "<div>\n",
       "<style scoped>\n",
       "    .dataframe tbody tr th:only-of-type {\n",
       "        vertical-align: middle;\n",
       "    }\n",
       "\n",
       "    .dataframe tbody tr th {\n",
       "        vertical-align: top;\n",
       "    }\n",
       "\n",
       "    .dataframe thead th {\n",
       "        text-align: right;\n",
       "    }\n",
       "</style>\n",
       "<table border=\"1\" class=\"dataframe\">\n",
       "  <thead>\n",
       "    <tr style=\"text-align: right;\">\n",
       "      <th></th>\n",
       "      <th>Manufacturer</th>\n",
       "      <th>Screen Size</th>\n",
       "      <th>RAM</th>\n",
       "      <th>Operating System Version</th>\n",
       "      <th>Weight</th>\n",
       "      <th>Storage_128GB SSD</th>\n",
       "      <th>Storage_128GB SSD +  1TB HDD</th>\n",
       "      <th>Storage_16GB Flash Storage</th>\n",
       "      <th>Storage_16GB SSD</th>\n",
       "      <th>Storage_1GB SSD</th>\n",
       "      <th>...</th>\n",
       "      <th>Model Name_ZBook Studio</th>\n",
       "      <th>Model Name_ZenBook UX305CA-UBM1</th>\n",
       "      <th>Model Name_ZenBook UX310UA-FB485T</th>\n",
       "      <th>Model Name_ZenBook UX310UA-WB71</th>\n",
       "      <th>Category_2 in 1 Convertible</th>\n",
       "      <th>Category_Gaming</th>\n",
       "      <th>Category_Netbook</th>\n",
       "      <th>Category_Notebook</th>\n",
       "      <th>Category_Ultrabook</th>\n",
       "      <th>Category_Workstation</th>\n",
       "    </tr>\n",
       "  </thead>\n",
       "  <tbody>\n",
       "    <tr>\n",
       "      <th>0</th>\n",
       "      <td>HP</td>\n",
       "      <td>15.60</td>\n",
       "      <td>6</td>\n",
       "      <td>10</td>\n",
       "      <td>2.04</td>\n",
       "      <td>0</td>\n",
       "      <td>0</td>\n",
       "      <td>0</td>\n",
       "      <td>0</td>\n",
       "      <td>0</td>\n",
       "      <td>...</td>\n",
       "      <td>0</td>\n",
       "      <td>0</td>\n",
       "      <td>0</td>\n",
       "      <td>0</td>\n",
       "      <td>0</td>\n",
       "      <td>0</td>\n",
       "      <td>0</td>\n",
       "      <td>1</td>\n",
       "      <td>0</td>\n",
       "      <td>0</td>\n",
       "    </tr>\n",
       "    <tr>\n",
       "      <th>1</th>\n",
       "      <td>Asus</td>\n",
       "      <td>17.30</td>\n",
       "      <td>16</td>\n",
       "      <td>10</td>\n",
       "      <td>2.99</td>\n",
       "      <td>0</td>\n",
       "      <td>0</td>\n",
       "      <td>0</td>\n",
       "      <td>0</td>\n",
       "      <td>0</td>\n",
       "      <td>...</td>\n",
       "      <td>0</td>\n",
       "      <td>0</td>\n",
       "      <td>0</td>\n",
       "      <td>0</td>\n",
       "      <td>0</td>\n",
       "      <td>1</td>\n",
       "      <td>0</td>\n",
       "      <td>0</td>\n",
       "      <td>0</td>\n",
       "      <td>0</td>\n",
       "    </tr>\n",
       "    <tr>\n",
       "      <th>2</th>\n",
       "      <td>Dell</td>\n",
       "      <td>15.60</td>\n",
       "      <td>12</td>\n",
       "      <td>10</td>\n",
       "      <td>2.19</td>\n",
       "      <td>0</td>\n",
       "      <td>0</td>\n",
       "      <td>0</td>\n",
       "      <td>0</td>\n",
       "      <td>0</td>\n",
       "      <td>...</td>\n",
       "      <td>0</td>\n",
       "      <td>0</td>\n",
       "      <td>0</td>\n",
       "      <td>0</td>\n",
       "      <td>1</td>\n",
       "      <td>0</td>\n",
       "      <td>0</td>\n",
       "      <td>0</td>\n",
       "      <td>0</td>\n",
       "      <td>0</td>\n",
       "    </tr>\n",
       "  </tbody>\n",
       "</table>\n",
       "<p>3 rows × 294 columns</p>\n",
       "</div>"
      ],
      "text/plain": [
       "  Manufacturer  Screen Size  RAM Operating System Version  Weight  \\\n",
       "0           HP        15.60    6                       10    2.04   \n",
       "1         Asus        17.30   16                       10    2.99   \n",
       "2         Dell        15.60   12                       10    2.19   \n",
       "\n",
       "   Storage_128GB SSD  Storage_128GB SSD +  1TB HDD  \\\n",
       "0                  0                             0   \n",
       "1                  0                             0   \n",
       "2                  0                             0   \n",
       "\n",
       "   Storage_16GB Flash Storage  Storage_16GB SSD  Storage_1GB SSD  ...  \\\n",
       "0                           0                 0                0  ...   \n",
       "1                           0                 0                0  ...   \n",
       "2                           0                 0                0  ...   \n",
       "\n",
       "   Model Name_ZBook Studio  Model Name_ZenBook UX305CA-UBM1  \\\n",
       "0                        0                                0   \n",
       "1                        0                                0   \n",
       "2                        0                                0   \n",
       "\n",
       "   Model Name_ZenBook UX310UA-FB485T  Model Name_ZenBook UX310UA-WB71  \\\n",
       "0                                  0                                0   \n",
       "1                                  0                                0   \n",
       "2                                  0                                0   \n",
       "\n",
       "   Category_2 in 1 Convertible  Category_Gaming  Category_Netbook  \\\n",
       "0                            0                0                 0   \n",
       "1                            0                1                 0   \n",
       "2                            1                0                 0   \n",
       "\n",
       "   Category_Notebook  Category_Ultrabook  Category_Workstation  \n",
       "0                  1                   0                     0  \n",
       "1                  0                   0                     0  \n",
       "2                  0                   0                     0  \n",
       "\n",
       "[3 rows x 294 columns]"
      ]
     },
     "execution_count": 152,
     "metadata": {},
     "output_type": "execute_result"
    }
   ],
   "source": [
    "test.head(3)"
   ]
  },
  {
   "cell_type": "code",
   "execution_count": 153,
   "metadata": {},
   "outputs": [
    {
     "data": {
      "text/plain": [
       "Dell         232\n",
       "Lenovo       226\n",
       "HP           179\n",
       "Asus         122\n",
       "Acer          83\n",
       "Toshiba       39\n",
       "MSI           34\n",
       "Apple         17\n",
       "Samsung        8\n",
       "Mediacom       7\n",
       "Microsoft      6\n",
       "Razer          5\n",
       "Xiaomi         4\n",
       "Chuwi          3\n",
       "Google         3\n",
       "LG             3\n",
       "Huawei         2\n",
       "Vero           2\n",
       "Fujitsu        2\n",
       "Name: Manufacturer, dtype: int64"
      ]
     },
     "execution_count": 153,
     "metadata": {},
     "output_type": "execute_result"
    }
   ],
   "source": [
    "train[\"Manufacturer\"].value_counts()"
   ]
  },
  {
   "cell_type": "code",
   "execution_count": 154,
   "metadata": {},
   "outputs": [
    {
     "data": {
      "text/plain": [
       "HP         95\n",
       "Lenovo     71\n",
       "Dell       65\n",
       "Asus       35\n",
       "Acer       20\n",
       "MSI        20\n",
       "Toshiba     9\n",
       "Apple       4\n",
       "Vero        2\n",
       "Razer       2\n",
       "Fujitsu     1\n",
       "Samsung     1\n",
       "Name: Manufacturer, dtype: int64"
      ]
     },
     "execution_count": 154,
     "metadata": {},
     "output_type": "execute_result"
    }
   ],
   "source": [
    "test[\"Manufacturer\"].value_counts()"
   ]
  },
  {
   "cell_type": "code",
   "execution_count": 155,
   "metadata": {},
   "outputs": [],
   "source": [
    "\"\"\"Utiliza la función pd.get_dummies() de Pandas para aplicar la codificación one-hot.  \n",
    "Esta función creará nuevas columnas binarias para cada categoría única en la columna Manufacturer.\"\"\"\n",
    "\n",
    "gpu_encoded = pd.get_dummies(train['Manufacturer'], prefix='Manufacturer')\n",
    "\n",
    "#concatenar las columnas codificadas con tu DataFrame original utilizando la función pd.concat()\n",
    "train = pd.concat([train, gpu_encoded], axis=1)\n",
    "\n",
    "#borramos la columna\n",
    "train.drop('Manufacturer', axis=1, inplace=True)"
   ]
  },
  {
   "cell_type": "code",
   "execution_count": 156,
   "metadata": {},
   "outputs": [],
   "source": [
    "\"\"\"Utiliza la función pd.get_dummies() de Pandas para aplicar la codificación one-hot.  \n",
    "Esta función creará nuevas columnas binarias para cada categoría única en la columna Manufacturer.\"\"\"\n",
    "\n",
    "gpu_encoded = pd.get_dummies(test['Manufacturer'], prefix='Manufacturer')\n",
    "\n",
    "#concatenar las columnas codificadas con tu DataFrame original utilizando la función pd.concat()\n",
    "test = pd.concat([test, gpu_encoded], axis=1)\n",
    "\n",
    "#borramos la columna\n",
    "test.drop('Manufacturer', axis=1, inplace=True)"
   ]
  },
  {
   "cell_type": "code",
   "execution_count": 157,
   "metadata": {},
   "outputs": [
    {
     "data": {
      "text/plain": [
       "Intel    929\n",
       "AMD       48\n",
       "Name: CPU_Brand, dtype: int64"
      ]
     },
     "execution_count": 157,
     "metadata": {},
     "output_type": "execute_result"
    }
   ],
   "source": [
    "train[\"CPU_Brand\"].value_counts()"
   ]
  },
  {
   "cell_type": "code",
   "execution_count": 158,
   "metadata": {},
   "outputs": [
    {
     "data": {
      "text/plain": [
       "Intel      310\n",
       "AMD         14\n",
       "Samsung      1\n",
       "Name: CPU_Brand, dtype: int64"
      ]
     },
     "execution_count": 158,
     "metadata": {},
     "output_type": "execute_result"
    }
   ],
   "source": [
    "test[\"CPU_Brand\"].value_counts()"
   ]
  },
  {
   "cell_type": "code",
   "execution_count": 159,
   "metadata": {},
   "outputs": [],
   "source": [
    "\"\"\"Utiliza la función pd.get_dummies() de Pandas para aplicar la codificación one-hot.  \n",
    "Esta función creará nuevas columnas binarias para cada categoría única en la columna CPU_Brand.\"\"\"\n",
    "\n",
    "gpu_encoded = pd.get_dummies(train['CPU_Brand'], prefix='CPU_Brand')\n",
    "\n",
    "#concatenar las columnas codificadas con tu DataFrame original utilizando la función pd.concat()\n",
    "train = pd.concat([train, gpu_encoded], axis=1)\n",
    "\n",
    "#borramos la columna\n",
    "train.drop('CPU_Brand', axis=1, inplace=True)"
   ]
  },
  {
   "cell_type": "code",
   "execution_count": 160,
   "metadata": {},
   "outputs": [],
   "source": [
    "\"\"\"Utiliza la función pd.get_dummies() de Pandas para aplicar la codificación one-hot.  \n",
    "Esta función creará nuevas columnas binarias para cada categoría única en la columna CPU_Brand.\"\"\"\n",
    "\n",
    "gpu_encoded = pd.get_dummies(test['CPU_Brand'], prefix='CPU_Brand')\n",
    "\n",
    "#concatenar las columnas codificadas con tu DataFrame original utilizando la función pd.concat()\n",
    "test = pd.concat([test, gpu_encoded], axis=1)\n",
    "\n",
    "#borramos la columna\n",
    "test.drop('CPU_Brand', axis=1, inplace=True)"
   ]
  },
  {
   "cell_type": "code",
   "execution_count": 161,
   "metadata": {},
   "outputs": [
    {
     "data": {
      "text/plain": [
       "0      NaN\n",
       "1      NaN\n",
       "2      NaN\n",
       "3      NaN\n",
       "4      NaN\n",
       "      ... \n",
       "972     10\n",
       "973     10\n",
       "974     10\n",
       "975     10\n",
       "976      7\n",
       "Name: Operating System Version, Length: 977, dtype: object"
      ]
     },
     "execution_count": 161,
     "metadata": {},
     "output_type": "execute_result"
    }
   ],
   "source": [
    "train[\"Operating System Version\"]"
   ]
  },
  {
   "cell_type": "code",
   "execution_count": 162,
   "metadata": {},
   "outputs": [
    {
     "data": {
      "text/plain": [
       "0      10\n",
       "1      10\n",
       "2      10\n",
       "3       7\n",
       "4      10\n",
       "       ..\n",
       "320    10\n",
       "321    10\n",
       "322    10\n",
       "323    10\n",
       "324    10\n",
       "Name: Operating System Version, Length: 325, dtype: object"
      ]
     },
     "execution_count": 162,
     "metadata": {},
     "output_type": "execute_result"
    }
   ],
   "source": [
    "test[\"Operating System Version\"]"
   ]
  },
  {
   "cell_type": "code",
   "execution_count": 163,
   "metadata": {},
   "outputs": [],
   "source": [
    "train.drop(\"Operating System Version\", axis=1, inplace=True)\n"
   ]
  },
  {
   "cell_type": "code",
   "execution_count": 164,
   "metadata": {},
   "outputs": [],
   "source": [
    "test.drop(\"Operating System Version\", axis=1, inplace=True)"
   ]
  },
  {
   "attachments": {},
   "cell_type": "markdown",
   "metadata": {},
   "source": [
    "* Entender los datos: valores faltantes o valores nulos"
   ]
  },
  {
   "attachments": {},
   "cell_type": "markdown",
   "metadata": {},
   "source": [
    "Decidir cómo manejar los valores nulos: Hay dos opciones comunes:\n",
    "* Eliminar filas con valores nulos: Si solo hay algunas filas con valores nulos y no representan una cantidad significativa de los datos, puedes eliminar esas filas utilizando el método dropna()\n",
    "* Reemplazar los valores nulos: Si los valores nulos representan una cantidad considerable de los datos o eliminar filas no es una opción, puedes reemplazar los valores nulos con valores apropiados. Puedes utilizar la media, mediana o algún otro valor relevante para reemplazar los valores nulos en cada columna. La función fillna() se puede usar para realizar esta tarea."
   ]
  },
  {
   "attachments": {},
   "cell_type": "markdown",
   "metadata": {},
   "source": [
    "En este caso, borraremos las filas con valores nulos, puesto que no suponen un muestra tan grande y no considero que sea óptimo en este caso sustituirlos por la media, la mediana o la moda. No se descarta en otro experimento, sustituirlos, dependiendo del resultado de la predicción."
   ]
  },
  {
   "cell_type": "code",
   "execution_count": 165,
   "metadata": {},
   "outputs": [
    {
     "data": {
      "text/plain": [
       "Screen Size                    0\n",
       "RAM                            0\n",
       "Weight                         0\n",
       "Price                          0\n",
       "Storage_128GB Flash Storage    0\n",
       "                              ..\n",
       "Manufacturer_Toshiba           0\n",
       "Manufacturer_Vero              0\n",
       "Manufacturer_Xiaomi            0\n",
       "CPU_Brand_AMD                  0\n",
       "CPU_Brand_Intel                0\n",
       "Length: 619, dtype: int64"
      ]
     },
     "execution_count": 165,
     "metadata": {},
     "output_type": "execute_result"
    }
   ],
   "source": [
    "# Verificar nuevamente la presencia de valores nulos\n",
    "train.isnull().sum()\n"
   ]
  },
  {
   "cell_type": "code",
   "execution_count": 166,
   "metadata": {},
   "outputs": [
    {
     "data": {
      "text/plain": [
       "(977, 619)"
      ]
     },
     "execution_count": 166,
     "metadata": {},
     "output_type": "execute_result"
    }
   ],
   "source": [
    "train.shape"
   ]
  },
  {
   "cell_type": "code",
   "execution_count": 167,
   "metadata": {},
   "outputs": [
    {
     "data": {
      "text/plain": [
       "Screen Size                     0\n",
       "RAM                             0\n",
       "Weight                          0\n",
       "Storage_128GB SSD               0\n",
       "Storage_128GB SSD +  1TB HDD    0\n",
       "                               ..\n",
       "Manufacturer_Toshiba            0\n",
       "Manufacturer_Vero               0\n",
       "CPU_Brand_AMD                   0\n",
       "CPU_Brand_Intel                 0\n",
       "CPU_Brand_Samsung               0\n",
       "Length: 306, dtype: int64"
      ]
     },
     "execution_count": 167,
     "metadata": {},
     "output_type": "execute_result"
    }
   ],
   "source": [
    "# Verificar nuevamente la presencia de valores nulos\n",
    "test.isnull().sum()"
   ]
  },
  {
   "attachments": {},
   "cell_type": "markdown",
   "metadata": {},
   "source": [
    "# Concat de los df y división para resolver el tema de las columnas"
   ]
  },
  {
   "cell_type": "code",
   "execution_count": 168,
   "metadata": {},
   "outputs": [
    {
     "data": {
      "text/plain": [
       "(325, 306)"
      ]
     },
     "execution_count": 168,
     "metadata": {},
     "output_type": "execute_result"
    }
   ],
   "source": [
    "test.shape"
   ]
  },
  {
   "cell_type": "code",
   "execution_count": 169,
   "metadata": {},
   "outputs": [
    {
     "data": {
      "text/plain": [
       "(977, 619)"
      ]
     },
     "execution_count": 169,
     "metadata": {},
     "output_type": "execute_result"
    }
   ],
   "source": [
    "train.shape"
   ]
  },
  {
   "cell_type": "code",
   "execution_count": 170,
   "metadata": {},
   "outputs": [],
   "source": [
    "#unimos los df para que tengan el mismo número de columnas\n",
    "df_concat = pd.concat([train, test], axis=0)\n"
   ]
  },
  {
   "cell_type": "code",
   "execution_count": 171,
   "metadata": {},
   "outputs": [
    {
     "data": {
      "text/plain": [
       "(1302, 751)"
      ]
     },
     "execution_count": 171,
     "metadata": {},
     "output_type": "execute_result"
    }
   ],
   "source": [
    "df_concat.shape"
   ]
  },
  {
   "cell_type": "code",
   "execution_count": 172,
   "metadata": {},
   "outputs": [
    {
     "data": {
      "text/html": [
       "<div>\n",
       "<style scoped>\n",
       "    .dataframe tbody tr th:only-of-type {\n",
       "        vertical-align: middle;\n",
       "    }\n",
       "\n",
       "    .dataframe tbody tr th {\n",
       "        vertical-align: top;\n",
       "    }\n",
       "\n",
       "    .dataframe thead th {\n",
       "        text-align: right;\n",
       "    }\n",
       "</style>\n",
       "<table border=\"1\" class=\"dataframe\">\n",
       "  <thead>\n",
       "    <tr style=\"text-align: right;\">\n",
       "      <th></th>\n",
       "      <th>Screen Size</th>\n",
       "      <th>RAM</th>\n",
       "      <th>Weight</th>\n",
       "      <th>Price</th>\n",
       "      <th>Storage_128GB Flash Storage</th>\n",
       "      <th>Storage_128GB HDD</th>\n",
       "      <th>Storage_128GB SSD</th>\n",
       "      <th>Storage_128GB SSD +  1TB HDD</th>\n",
       "      <th>Storage_128GB SSD +  2TB HDD</th>\n",
       "      <th>Storage_16GB Flash Storage</th>\n",
       "      <th>...</th>\n",
       "      <th>Model Name_X553SA-XX031T (N3050/4GB/500GB/W10)</th>\n",
       "      <th>Model Name_X556UJ-XO044T (i7-6500U/4GB/500GB/GeForce</th>\n",
       "      <th>Model Name_Yoga 500-14IBD</th>\n",
       "      <th>Model Name_Yoga 500-14ISK</th>\n",
       "      <th>Model Name_Yoga 500-15ISK</th>\n",
       "      <th>Model Name_Yoga 900S-12ISK</th>\n",
       "      <th>Model Name_ZenBook UX305CA-UBM1</th>\n",
       "      <th>Model Name_ZenBook UX310UA-FB485T</th>\n",
       "      <th>Model Name_ZenBook UX310UA-WB71</th>\n",
       "      <th>CPU_Brand_Samsung</th>\n",
       "    </tr>\n",
       "  </thead>\n",
       "  <tbody>\n",
       "    <tr>\n",
       "      <th>0</th>\n",
       "      <td>13.30</td>\n",
       "      <td>8</td>\n",
       "      <td>1.37</td>\n",
       "      <td>11912523.48</td>\n",
       "      <td>0.00</td>\n",
       "      <td>0.00</td>\n",
       "      <td>1</td>\n",
       "      <td>0</td>\n",
       "      <td>0.00</td>\n",
       "      <td>0</td>\n",
       "      <td>...</td>\n",
       "      <td>NaN</td>\n",
       "      <td>NaN</td>\n",
       "      <td>NaN</td>\n",
       "      <td>NaN</td>\n",
       "      <td>NaN</td>\n",
       "      <td>NaN</td>\n",
       "      <td>NaN</td>\n",
       "      <td>NaN</td>\n",
       "      <td>NaN</td>\n",
       "      <td>NaN</td>\n",
       "    </tr>\n",
       "    <tr>\n",
       "      <th>1</th>\n",
       "      <td>13.30</td>\n",
       "      <td>8</td>\n",
       "      <td>1.34</td>\n",
       "      <td>7993374.48</td>\n",
       "      <td>1.00</td>\n",
       "      <td>0.00</td>\n",
       "      <td>0</td>\n",
       "      <td>0</td>\n",
       "      <td>0.00</td>\n",
       "      <td>0</td>\n",
       "      <td>...</td>\n",
       "      <td>NaN</td>\n",
       "      <td>NaN</td>\n",
       "      <td>NaN</td>\n",
       "      <td>NaN</td>\n",
       "      <td>NaN</td>\n",
       "      <td>NaN</td>\n",
       "      <td>NaN</td>\n",
       "      <td>NaN</td>\n",
       "      <td>NaN</td>\n",
       "      <td>NaN</td>\n",
       "    </tr>\n",
       "    <tr>\n",
       "      <th>2</th>\n",
       "      <td>15.60</td>\n",
       "      <td>8</td>\n",
       "      <td>1.86</td>\n",
       "      <td>5112900.00</td>\n",
       "      <td>0.00</td>\n",
       "      <td>0.00</td>\n",
       "      <td>0</td>\n",
       "      <td>0</td>\n",
       "      <td>0.00</td>\n",
       "      <td>0</td>\n",
       "      <td>...</td>\n",
       "      <td>NaN</td>\n",
       "      <td>NaN</td>\n",
       "      <td>NaN</td>\n",
       "      <td>NaN</td>\n",
       "      <td>NaN</td>\n",
       "      <td>NaN</td>\n",
       "      <td>NaN</td>\n",
       "      <td>NaN</td>\n",
       "      <td>NaN</td>\n",
       "      <td>NaN</td>\n",
       "    </tr>\n",
       "    <tr>\n",
       "      <th>3</th>\n",
       "      <td>15.40</td>\n",
       "      <td>16</td>\n",
       "      <td>1.83</td>\n",
       "      <td>22563005.40</td>\n",
       "      <td>0.00</td>\n",
       "      <td>0.00</td>\n",
       "      <td>0</td>\n",
       "      <td>0</td>\n",
       "      <td>0.00</td>\n",
       "      <td>0</td>\n",
       "      <td>...</td>\n",
       "      <td>NaN</td>\n",
       "      <td>NaN</td>\n",
       "      <td>NaN</td>\n",
       "      <td>NaN</td>\n",
       "      <td>NaN</td>\n",
       "      <td>NaN</td>\n",
       "      <td>NaN</td>\n",
       "      <td>NaN</td>\n",
       "      <td>NaN</td>\n",
       "      <td>NaN</td>\n",
       "    </tr>\n",
       "    <tr>\n",
       "      <th>4</th>\n",
       "      <td>13.30</td>\n",
       "      <td>8</td>\n",
       "      <td>1.37</td>\n",
       "      <td>16037611.20</td>\n",
       "      <td>0.00</td>\n",
       "      <td>0.00</td>\n",
       "      <td>0</td>\n",
       "      <td>0</td>\n",
       "      <td>0.00</td>\n",
       "      <td>0</td>\n",
       "      <td>...</td>\n",
       "      <td>NaN</td>\n",
       "      <td>NaN</td>\n",
       "      <td>NaN</td>\n",
       "      <td>NaN</td>\n",
       "      <td>NaN</td>\n",
       "      <td>NaN</td>\n",
       "      <td>NaN</td>\n",
       "      <td>NaN</td>\n",
       "      <td>NaN</td>\n",
       "      <td>NaN</td>\n",
       "    </tr>\n",
       "  </tbody>\n",
       "</table>\n",
       "<p>5 rows × 751 columns</p>\n",
       "</div>"
      ],
      "text/plain": [
       "   Screen Size  RAM  Weight       Price  Storage_128GB Flash Storage  \\\n",
       "0        13.30    8    1.37 11912523.48                         0.00   \n",
       "1        13.30    8    1.34  7993374.48                         1.00   \n",
       "2        15.60    8    1.86  5112900.00                         0.00   \n",
       "3        15.40   16    1.83 22563005.40                         0.00   \n",
       "4        13.30    8    1.37 16037611.20                         0.00   \n",
       "\n",
       "   Storage_128GB HDD  Storage_128GB SSD  Storage_128GB SSD +  1TB HDD  \\\n",
       "0               0.00                  1                             0   \n",
       "1               0.00                  0                             0   \n",
       "2               0.00                  0                             0   \n",
       "3               0.00                  0                             0   \n",
       "4               0.00                  0                             0   \n",
       "\n",
       "   Storage_128GB SSD +  2TB HDD  Storage_16GB Flash Storage  ...  \\\n",
       "0                          0.00                           0  ...   \n",
       "1                          0.00                           0  ...   \n",
       "2                          0.00                           0  ...   \n",
       "3                          0.00                           0  ...   \n",
       "4                          0.00                           0  ...   \n",
       "\n",
       "   Model Name_X553SA-XX031T (N3050/4GB/500GB/W10)  \\\n",
       "0                                             NaN   \n",
       "1                                             NaN   \n",
       "2                                             NaN   \n",
       "3                                             NaN   \n",
       "4                                             NaN   \n",
       "\n",
       "   Model Name_X556UJ-XO044T (i7-6500U/4GB/500GB/GeForce  \\\n",
       "0                                                NaN      \n",
       "1                                                NaN      \n",
       "2                                                NaN      \n",
       "3                                                NaN      \n",
       "4                                                NaN      \n",
       "\n",
       "   Model Name_Yoga 500-14IBD  Model Name_Yoga 500-14ISK  \\\n",
       "0                        NaN                        NaN   \n",
       "1                        NaN                        NaN   \n",
       "2                        NaN                        NaN   \n",
       "3                        NaN                        NaN   \n",
       "4                        NaN                        NaN   \n",
       "\n",
       "   Model Name_Yoga 500-15ISK  Model Name_Yoga 900S-12ISK  \\\n",
       "0                        NaN                         NaN   \n",
       "1                        NaN                         NaN   \n",
       "2                        NaN                         NaN   \n",
       "3                        NaN                         NaN   \n",
       "4                        NaN                         NaN   \n",
       "\n",
       "   Model Name_ZenBook UX305CA-UBM1  Model Name_ZenBook UX310UA-FB485T  \\\n",
       "0                              NaN                                NaN   \n",
       "1                              NaN                                NaN   \n",
       "2                              NaN                                NaN   \n",
       "3                              NaN                                NaN   \n",
       "4                              NaN                                NaN   \n",
       "\n",
       "   Model Name_ZenBook UX310UA-WB71  CPU_Brand_Samsung  \n",
       "0                              NaN                NaN  \n",
       "1                              NaN                NaN  \n",
       "2                              NaN                NaN  \n",
       "3                              NaN                NaN  \n",
       "4                              NaN                NaN  \n",
       "\n",
       "[5 rows x 751 columns]"
      ]
     },
     "execution_count": 172,
     "metadata": {},
     "output_type": "execute_result"
    }
   ],
   "source": [
    "df_concat.head()"
   ]
  },
  {
   "cell_type": "code",
   "execution_count": 173,
   "metadata": {},
   "outputs": [],
   "source": [
    "#volvemos a separar los df para poder predecir\n",
    "train = df_concat.iloc[:977]\n",
    "test = df_concat.iloc[977:]"
   ]
  },
  {
   "cell_type": "code",
   "execution_count": 180,
   "metadata": {},
   "outputs": [],
   "source": [
    "#rellenamos los NaN con 0\n",
    "train.fillna(0, inplace=True)\n",
    "test.fillna(0, inplace=True)\n"
   ]
  },
  {
   "cell_type": "code",
   "execution_count": 174,
   "metadata": {},
   "outputs": [
    {
     "data": {
      "text/plain": [
       "(325, 751)"
      ]
     },
     "execution_count": 174,
     "metadata": {},
     "output_type": "execute_result"
    }
   ],
   "source": [
    "test.shape"
   ]
  },
  {
   "cell_type": "code",
   "execution_count": 175,
   "metadata": {},
   "outputs": [
    {
     "data": {
      "text/plain": [
       "(977, 751)"
      ]
     },
     "execution_count": 175,
     "metadata": {},
     "output_type": "execute_result"
    }
   ],
   "source": [
    "train.shape"
   ]
  },
  {
   "attachments": {},
   "cell_type": "markdown",
   "metadata": {},
   "source": [
    "# Hipótesis y modelado"
   ]
  },
  {
   "attachments": {},
   "cell_type": "markdown",
   "metadata": {},
   "source": [
    "Trataremos de **predecir el precio de los ordenadores**, según sus características. Al ser un objetivo concreto a predecir y ser numérico, usaremos machine learning de **aprendizaje supervizado**, y cómo el objetivo es predecir un número el **modelo será de regresión**, usando la técnica o herramienta de **regresión lineal**."
   ]
  },
  {
   "attachments": {},
   "cell_type": "markdown",
   "metadata": {},
   "source": [
    "* aprendizaje supervisado"
   ]
  },
  {
   "attachments": {},
   "cell_type": "markdown",
   "metadata": {},
   "source": [
    "# Prueba"
   ]
  },
  {
   "cell_type": "code",
   "execution_count": 182,
   "metadata": {},
   "outputs": [],
   "source": [
    "X = train.drop('Price', axis=1)\n",
    "\n",
    "y = train.Price"
   ]
  },
  {
   "cell_type": "code",
   "execution_count": 183,
   "metadata": {},
   "outputs": [
    {
     "data": {
      "text/plain": [
       "((977, 750), (977,))"
      ]
     },
     "execution_count": 183,
     "metadata": {},
     "output_type": "execute_result"
    }
   ],
   "source": [
    "X.shape, y.shape"
   ]
  },
  {
   "cell_type": "code",
   "execution_count": 184,
   "metadata": {},
   "outputs": [
    {
     "data": {
      "text/plain": [
       "((781, 750), (196, 750), (781,), (196,))"
      ]
     },
     "execution_count": 184,
     "metadata": {},
     "output_type": "execute_result"
    }
   ],
   "source": [
    "# train_test_split\n",
    "\n",
    "from sklearn.model_selection import train_test_split as tts  # el alias es cosa mia\n",
    "\n",
    "# Dividir los datos en conjunto de entrenamiento y prueba\n",
    "\n",
    "X_train, X_test, y_train, y_test = tts(X, y, \n",
    "                                       train_size=0.8, \n",
    "                                       test_size=0.2,\n",
    "                                       random_state=42\n",
    "                                      )\n",
    "\n",
    "\n",
    "X_train.shape, X_test.shape, y_train.shape, y_test.shape"
   ]
  },
  {
   "cell_type": "code",
   "execution_count": 185,
   "metadata": {},
   "outputs": [],
   "source": [
    "\n",
    "from sklearn.linear_model import LinearRegression\n",
    "\n",
    "# Crear el modelo de regresión lineal\n",
    "model = LinearRegression()\n",
    "\n",
    "# Entrenar el modelo con los datos de entrenamiento\n",
    "model.fit(X_train, y_train)\n",
    "\n",
    "# Realizar predicciones sobre el conjunto de prueba\n",
    "y_pred = model.predict(X_test)\n",
    "\n"
   ]
  },
  {
   "cell_type": "code",
   "execution_count": 186,
   "metadata": {},
   "outputs": [
    {
     "data": {
      "text/plain": [
       "-1518727162927514.2"
      ]
     },
     "execution_count": 186,
     "metadata": {},
     "output_type": "execute_result"
    }
   ],
   "source": [
    "from sklearn.metrics import r2_score as r2\n",
    "r2(y_test, y_pred)"
   ]
  },
  {
   "attachments": {},
   "cell_type": "markdown",
   "metadata": {},
   "source": [
    "# Testeo del modelo: Modelos: regresión lineal"
   ]
  },
  {
   "cell_type": "code",
   "execution_count": null,
   "metadata": {},
   "outputs": [],
   "source": [
    "#lazy\n",
    "#pip install lazypredict"
   ]
  },
  {
   "cell_type": "code",
   "execution_count": 187,
   "metadata": {},
   "outputs": [],
   "source": [
    "#importamos librerías \n",
    "\n",
    "from sklearn.linear_model import LinearRegression as LinReg   # alias es mio\n",
    "from sklearn.linear_model import Lasso        # regularizacion L1\n",
    "from sklearn.linear_model import Ridge        # regularizacion L2\n",
    "from sklearn.linear_model import ElasticNet   # regularizacion L1+L2\n",
    "from lazypredict.Supervised import LazyRegressor \n",
    "from xgboost import XGBRegressor\n",
    "from sklearn.ensemble import RandomForestRegressor, GradientBoostingRegressor\n"
   ]
  },
  {
   "attachments": {},
   "cell_type": "markdown",
   "metadata": {},
   "source": [
    "# Modelo LinReg()"
   ]
  },
  {
   "cell_type": "code",
   "execution_count": 188,
   "metadata": {},
   "outputs": [
    {
     "data": {
      "text/plain": [
       "-1518727162927514.2"
      ]
     },
     "execution_count": 188,
     "metadata": {},
     "output_type": "execute_result"
    }
   ],
   "source": [
    "# Dividir los datos en conjunto de entrenamiento y prueba\n",
    "\n",
    "X_train, X_test, y_train, y_test = tts(X, y, \n",
    "                                       train_size=0.8, \n",
    "                                       test_size=0.2,\n",
    "                                       random_state=42\n",
    "                                      )\n",
    "\n",
    "\n",
    "X_train.shape, X_test.shape, y_train.shape, y_test.shape\n",
    "\n",
    "# Crear el modelo de regresión lineal\n",
    "model = LinReg()\n",
    "\n",
    "# Entrenar el modelo con los datos de entrenamiento\n",
    "model.fit(X_train, y_train)\n",
    "\n",
    "# Realizar predicciones sobre el conjunto de prueba\n",
    "y_pred = model.predict(X_test)\n",
    "\n",
    "r2(y_test, y_pred)"
   ]
  },
  {
   "attachments": {},
   "cell_type": "markdown",
   "metadata": {},
   "source": [
    "# Modelo Lasso()"
   ]
  },
  {
   "cell_type": "code",
   "execution_count": 189,
   "metadata": {},
   "outputs": [
    {
     "data": {
      "text/plain": [
       "0.6622567419703518"
      ]
     },
     "execution_count": 189,
     "metadata": {},
     "output_type": "execute_result"
    }
   ],
   "source": [
    "# Dividir los datos en conjunto de entrenamiento y prueba\n",
    "\n",
    "X_train, X_test, y_train, y_test = tts(X, y, \n",
    "                                       train_size=0.8, \n",
    "                                       test_size=0.2,\n",
    "                                       random_state=42\n",
    "                                      )\n",
    "\n",
    "\n",
    "X_train.shape, X_test.shape, y_train.shape, y_test.shape\n",
    "\n",
    "# Crear el modelo de regresión lineal\n",
    "model = Lasso()\n",
    "\n",
    "# Entrenar el modelo con los datos de entrenamiento\n",
    "model.fit(X_train, y_train)\n",
    "\n",
    "# Realizar predicciones sobre el conjunto de prueba\n",
    "y_pred = model.predict(X_test)\n",
    "\n",
    "r2(y_test, y_pred)"
   ]
  },
  {
   "attachments": {},
   "cell_type": "markdown",
   "metadata": {},
   "source": [
    "# Modelo Ridge()"
   ]
  },
  {
   "cell_type": "code",
   "execution_count": 190,
   "metadata": {},
   "outputs": [
    {
     "data": {
      "text/plain": [
       "0.818529927766988"
      ]
     },
     "execution_count": 190,
     "metadata": {},
     "output_type": "execute_result"
    }
   ],
   "source": [
    "# Dividir los datos en conjunto de entrenamiento y prueba\n",
    "\n",
    "X_train, X_test, y_train, y_test = tts(X, y, \n",
    "                                       train_size=0.8, \n",
    "                                       test_size=0.2,\n",
    "                                       random_state=42\n",
    "                                      )\n",
    "\n",
    "\n",
    "X_train.shape, X_test.shape, y_train.shape, y_test.shape\n",
    "\n",
    "# Crear el modelo de regresión lineal\n",
    "model = Ridge()\n",
    "\n",
    "# Entrenar el modelo con los datos de entrenamiento\n",
    "model.fit(X_train, y_train)\n",
    "\n",
    "# Realizar predicciones sobre el conjunto de prueba\n",
    "y_pred = model.predict(X_test)\n",
    "\n",
    "r2(y_test, y_pred)"
   ]
  },
  {
   "attachments": {},
   "cell_type": "markdown",
   "metadata": {},
   "source": [
    "# Modelo ElasticNet()"
   ]
  },
  {
   "cell_type": "code",
   "execution_count": 191,
   "metadata": {},
   "outputs": [
    {
     "data": {
      "text/plain": [
       "0.6388965404271025"
      ]
     },
     "execution_count": 191,
     "metadata": {},
     "output_type": "execute_result"
    }
   ],
   "source": [
    "# Dividir los datos en conjunto de entrenamiento y prueba\n",
    "\n",
    "X_train, X_test, y_train, y_test = tts(X, y, \n",
    "                                       train_size=0.8, \n",
    "                                       test_size=0.2,\n",
    "                                       random_state=42\n",
    "                                      )\n",
    "\n",
    "\n",
    "X_train.shape, X_test.shape, y_train.shape, y_test.shape\n",
    "\n",
    "# Crear el modelo de regresión lineal\n",
    "model = ElasticNet()\n",
    "\n",
    "# Entrenar el modelo con los datos de entrenamiento\n",
    "model.fit(X_train, y_train)\n",
    "\n",
    "# Realizar predicciones sobre el conjunto de prueba\n",
    "y_pred = model.predict(X_test)\n",
    "\n",
    "r2(y_test, y_pred)"
   ]
  },
  {
   "attachments": {},
   "cell_type": "markdown",
   "metadata": {},
   "source": [
    "# Modelo RandomForestRegressor()"
   ]
  },
  {
   "cell_type": "code",
   "execution_count": 192,
   "metadata": {},
   "outputs": [
    {
     "data": {
      "text/plain": [
       "0.8139970233267757"
      ]
     },
     "execution_count": 192,
     "metadata": {},
     "output_type": "execute_result"
    }
   ],
   "source": [
    "# Dividir los datos en conjunto de entrenamiento y prueba\n",
    "\n",
    "X_train, X_test, y_train, y_test = tts(X, y, \n",
    "                                       train_size=0.8, \n",
    "                                       test_size=0.2,\n",
    "                                       random_state=42\n",
    "                                      )\n",
    "\n",
    "\n",
    "X_train.shape, X_test.shape, y_train.shape, y_test.shape\n",
    "\n",
    "# Crear el modelo de regresión lineal\n",
    "model_random = RandomForestRegressor()\n",
    "\n",
    "# Entrenar el modelo con los datos de entrenamiento\n",
    "model_random.fit(X_train, y_train)\n",
    "\n",
    "# Realizar predicciones sobre el conjunto de prueba\n",
    "y_pred = model_random.predict(X_test)\n",
    "\n",
    "r2(y_test, y_pred)"
   ]
  },
  {
   "attachments": {},
   "cell_type": "markdown",
   "metadata": {},
   "source": [
    "# Modelo GradientBoostingRegressor()"
   ]
  },
  {
   "cell_type": "code",
   "execution_count": 217,
   "metadata": {},
   "outputs": [
    {
     "data": {
      "text/plain": [
       "0.8189784094032291"
      ]
     },
     "execution_count": 217,
     "metadata": {},
     "output_type": "execute_result"
    }
   ],
   "source": [
    "# Dividir los datos en conjunto de entrenamiento y prueba\n",
    "\n",
    "X_train, X_test, y_train, y_test = tts(X, y, \n",
    "                                       train_size=0.8, \n",
    "                                       test_size=0.2,\n",
    "                                       random_state=42\n",
    "                                      )\n",
    "\n",
    "\n",
    "X_train.shape, X_test.shape, y_train.shape, y_test.shape\n",
    "\n",
    "# Crear el modelo de regresión lineal\n",
    "model_gradient = GradientBoostingRegressor()\n",
    "\n",
    "# Entrenar el modelo con los datos de entrenamiento\n",
    "model_gradient.fit(X_train, y_train)\n",
    "\n",
    "# Realizar predicciones sobre el conjunto de prueba\n",
    "y_pred = model_gradient.predict(X_test)\n",
    "\n",
    "r2(y_test, y_pred)"
   ]
  },
  {
   "attachments": {},
   "cell_type": "markdown",
   "metadata": {},
   "source": [
    "# Modelo LazyRegressor()"
   ]
  },
  {
   "cell_type": "code",
   "execution_count": 195,
   "metadata": {},
   "outputs": [
    {
     "name": "stderr",
     "output_type": "stream",
     "text": [
      "100%|██████████| 42/42 [00:50<00:00,  1.20s/it]\n"
     ]
    },
    {
     "data": {
      "text/plain": [
       "(                                          Adjusted R-Squared  \\\n",
       " Model                                                          \n",
       " TransformedTargetRegressor    868141529305994161578573824.00   \n",
       " LinearRegression              868141529305994161578573824.00   \n",
       " RANSACRegressor               344952556707436279147528192.00   \n",
       " Lars                                          62335691023.65   \n",
       " SGDRegressor                                            8.00   \n",
       " LinearSVR                                               2.26   \n",
       " MLPRegressor                                            2.26   \n",
       " PassiveAggressiveRegressor                              2.12   \n",
       " GaussianProcessRegressor                                1.99   \n",
       " KernelRidge                                             1.93   \n",
       " QuantileRegressor                                       1.36   \n",
       " SVR                                                     1.36   \n",
       " DummyRegressor                                          1.35   \n",
       " BayesianRidge                                           1.35   \n",
       " ElasticNetCV                                            1.35   \n",
       " NuSVR                                                   1.35   \n",
       " KNeighborsRegressor                                     1.14   \n",
       " LarsCV                                                  1.13   \n",
       " Lasso                                                   1.13   \n",
       " AdaBoostRegressor                                       1.13   \n",
       " LassoLarsIC                                             1.12   \n",
       " DecisionTreeRegressor                                   1.11   \n",
       " Ridge                                                   1.09   \n",
       " ExtraTreeRegressor                                      1.08   \n",
       " TweedieRegressor                                        1.07   \n",
       " RidgeCV                                                 1.07   \n",
       " HistGradientBoostingRegressor                           1.07   \n",
       " OrthogonalMatchingPursuitCV                             1.07   \n",
       " LGBMRegressor                                           1.07   \n",
       " BaggingRegressor                                        1.07   \n",
       " RandomForestRegressor                                   1.07   \n",
       " XGBRegressor                                            1.07   \n",
       " ElasticNet                                              1.06   \n",
       " HuberRegressor                                          1.06   \n",
       " GradientBoostingRegressor                               1.06   \n",
       " LassoLars                                               1.06   \n",
       " LassoLarsCV                                             1.06   \n",
       " OrthogonalMatchingPursuit                               1.06   \n",
       " GammaRegressor                                          1.06   \n",
       " LassoCV                                                 1.06   \n",
       " PoissonRegressor                                        1.06   \n",
       " ExtraTreesRegressor                                     1.05   \n",
       " \n",
       "                                                      R-Squared  \\\n",
       " Model                                                            \n",
       " TransformedTargetRegressor    -2470864352640136954230341632.00   \n",
       " LinearRegression              -2470864352640136954230341632.00   \n",
       " RANSACRegressor                -981788046013472507948957696.00   \n",
       " Lars                                          -177416966755.78   \n",
       " SGDRegressor                                            -18.91   \n",
       " LinearSVR                                                -2.58   \n",
       " MLPRegressor                                             -2.58   \n",
       " PassiveAggressiveRegressor                               -2.18   \n",
       " GaussianProcessRegressor                                 -1.82   \n",
       " KernelRidge                                              -1.66   \n",
       " QuantileRegressor                                        -0.04   \n",
       " SVR                                                      -0.04   \n",
       " DummyRegressor                                           -0.01   \n",
       " BayesianRidge                                            -0.01   \n",
       " ElasticNetCV                                             -0.00   \n",
       " NuSVR                                                    -0.00   \n",
       " KNeighborsRegressor                                       0.61   \n",
       " LarsCV                                                    0.62   \n",
       " Lasso                                                     0.64   \n",
       " AdaBoostRegressor                                         0.64   \n",
       " LassoLarsIC                                               0.67   \n",
       " DecisionTreeRegressor                                     0.69   \n",
       " Ridge                                                     0.74   \n",
       " ExtraTreeRegressor                                        0.78   \n",
       " TweedieRegressor                                          0.79   \n",
       " RidgeCV                                                   0.80   \n",
       " HistGradientBoostingRegressor                             0.80   \n",
       " OrthogonalMatchingPursuitCV                               0.80   \n",
       " LGBMRegressor                                             0.80   \n",
       " BaggingRegressor                                          0.80   \n",
       " RandomForestRegressor                                     0.81   \n",
       " XGBRegressor                                              0.81   \n",
       " ElasticNet                                                0.82   \n",
       " HuberRegressor                                            0.82   \n",
       " GradientBoostingRegressor                                 0.82   \n",
       " LassoLars                                                 0.82   \n",
       " LassoLarsCV                                               0.82   \n",
       " OrthogonalMatchingPursuit                                 0.82   \n",
       " GammaRegressor                                            0.82   \n",
       " LassoCV                                                   0.82   \n",
       " PoissonRegressor                                          0.83   \n",
       " ExtraTreesRegressor                                       0.85   \n",
       " \n",
       "                                                   RMSE  Time Taken  \n",
       " Model                                                               \n",
       " TransformedTargetRegressor    298888981507249733632.00        0.09  \n",
       " LinearRegression              298888981507249733632.00        0.09  \n",
       " RANSACRegressor               188405823836036628480.00        5.09  \n",
       " Lars                                  2532695788566.15        0.46  \n",
       " SGDRegressor                               26831128.02        0.06  \n",
       " LinearSVR                                  11384265.42        0.05  \n",
       " MLPRegressor                               11383398.90        2.34  \n",
       " PassiveAggressiveRegressor                 10729671.85        1.69  \n",
       " GaussianProcessRegressor                   10089010.05        0.89  \n",
       " KernelRidge                                 9798378.60        0.09  \n",
       " QuantileRegressor                           6120055.05        8.72  \n",
       " SVR                                         6120052.09        0.22  \n",
       " DummyRegressor                              6028972.16        0.07  \n",
       " BayesianRidge                               6028972.16        0.26  \n",
       " ElasticNetCV                                6024579.96        1.37  \n",
       " NuSVR                                       6022514.05        0.18  \n",
       " KNeighborsRegressor                         3765272.78        0.06  \n",
       " LarsCV                                      3709862.89        5.21  \n",
       " Lasso                                       3613007.70        0.43  \n",
       " AdaBoostRegressor                           3593642.50        0.68  \n",
       " LassoLarsIC                                 3459237.32        0.20  \n",
       " DecisionTreeRegressor                       3328385.34        0.11  \n",
       " Ridge                                       3084511.71        0.08  \n",
       " ExtraTreeRegressor                          2806151.05        0.08  \n",
       " TweedieRegressor                            2768020.68        0.07  \n",
       " RidgeCV                                     2719154.81        0.15  \n",
       " HistGradientBoostingRegressor               2699971.92        9.23  \n",
       " OrthogonalMatchingPursuitCV                 2694737.35        0.20  \n",
       " LGBMRegressor                               2685372.29        0.13  \n",
       " BaggingRegressor                            2675274.24        0.26  \n",
       " RandomForestRegressor                       2622469.92        1.01  \n",
       " XGBRegressor                                2586690.03        1.07  \n",
       " ElasticNet                                  2577569.08        0.08  \n",
       " HuberRegressor                              2573931.54        0.42  \n",
       " GradientBoostingRegressor                   2559245.39        0.70  \n",
       " LassoLars                                   2546313.91        0.18  \n",
       " LassoLarsCV                                 2546313.91        2.14  \n",
       " OrthogonalMatchingPursuit                   2545951.31        0.08  \n",
       " GammaRegressor                              2541657.64        0.06  \n",
       " LassoCV                                     2522039.53        4.23  \n",
       " PoissonRegressor                            2480140.59        0.10  \n",
       " ExtraTreesRegressor                         2300603.38        1.72  ,\n",
       "                                           Adjusted R-Squared  \\\n",
       " Model                                                          \n",
       " TransformedTargetRegressor    868141529305994161578573824.00   \n",
       " LinearRegression              868141529305994161578573824.00   \n",
       " RANSACRegressor               344952556707436279147528192.00   \n",
       " Lars                                          62335691023.65   \n",
       " SGDRegressor                                            8.00   \n",
       " LinearSVR                                               2.26   \n",
       " MLPRegressor                                            2.26   \n",
       " PassiveAggressiveRegressor                              2.12   \n",
       " GaussianProcessRegressor                                1.99   \n",
       " KernelRidge                                             1.93   \n",
       " QuantileRegressor                                       1.36   \n",
       " SVR                                                     1.36   \n",
       " DummyRegressor                                          1.35   \n",
       " BayesianRidge                                           1.35   \n",
       " ElasticNetCV                                            1.35   \n",
       " NuSVR                                                   1.35   \n",
       " KNeighborsRegressor                                     1.14   \n",
       " LarsCV                                                  1.13   \n",
       " Lasso                                                   1.13   \n",
       " AdaBoostRegressor                                       1.13   \n",
       " LassoLarsIC                                             1.12   \n",
       " DecisionTreeRegressor                                   1.11   \n",
       " Ridge                                                   1.09   \n",
       " ExtraTreeRegressor                                      1.08   \n",
       " TweedieRegressor                                        1.07   \n",
       " RidgeCV                                                 1.07   \n",
       " HistGradientBoostingRegressor                           1.07   \n",
       " OrthogonalMatchingPursuitCV                             1.07   \n",
       " LGBMRegressor                                           1.07   \n",
       " BaggingRegressor                                        1.07   \n",
       " RandomForestRegressor                                   1.07   \n",
       " XGBRegressor                                            1.07   \n",
       " ElasticNet                                              1.06   \n",
       " HuberRegressor                                          1.06   \n",
       " GradientBoostingRegressor                               1.06   \n",
       " LassoLars                                               1.06   \n",
       " LassoLarsCV                                             1.06   \n",
       " OrthogonalMatchingPursuit                               1.06   \n",
       " GammaRegressor                                          1.06   \n",
       " LassoCV                                                 1.06   \n",
       " PoissonRegressor                                        1.06   \n",
       " ExtraTreesRegressor                                     1.05   \n",
       " \n",
       "                                                      R-Squared  \\\n",
       " Model                                                            \n",
       " TransformedTargetRegressor    -2470864352640136954230341632.00   \n",
       " LinearRegression              -2470864352640136954230341632.00   \n",
       " RANSACRegressor                -981788046013472507948957696.00   \n",
       " Lars                                          -177416966755.78   \n",
       " SGDRegressor                                            -18.91   \n",
       " LinearSVR                                                -2.58   \n",
       " MLPRegressor                                             -2.58   \n",
       " PassiveAggressiveRegressor                               -2.18   \n",
       " GaussianProcessRegressor                                 -1.82   \n",
       " KernelRidge                                              -1.66   \n",
       " QuantileRegressor                                        -0.04   \n",
       " SVR                                                      -0.04   \n",
       " DummyRegressor                                           -0.01   \n",
       " BayesianRidge                                            -0.01   \n",
       " ElasticNetCV                                             -0.00   \n",
       " NuSVR                                                    -0.00   \n",
       " KNeighborsRegressor                                       0.61   \n",
       " LarsCV                                                    0.62   \n",
       " Lasso                                                     0.64   \n",
       " AdaBoostRegressor                                         0.64   \n",
       " LassoLarsIC                                               0.67   \n",
       " DecisionTreeRegressor                                     0.69   \n",
       " Ridge                                                     0.74   \n",
       " ExtraTreeRegressor                                        0.78   \n",
       " TweedieRegressor                                          0.79   \n",
       " RidgeCV                                                   0.80   \n",
       " HistGradientBoostingRegressor                             0.80   \n",
       " OrthogonalMatchingPursuitCV                               0.80   \n",
       " LGBMRegressor                                             0.80   \n",
       " BaggingRegressor                                          0.80   \n",
       " RandomForestRegressor                                     0.81   \n",
       " XGBRegressor                                              0.81   \n",
       " ElasticNet                                                0.82   \n",
       " HuberRegressor                                            0.82   \n",
       " GradientBoostingRegressor                                 0.82   \n",
       " LassoLars                                                 0.82   \n",
       " LassoLarsCV                                               0.82   \n",
       " OrthogonalMatchingPursuit                                 0.82   \n",
       " GammaRegressor                                            0.82   \n",
       " LassoCV                                                   0.82   \n",
       " PoissonRegressor                                          0.83   \n",
       " ExtraTreesRegressor                                       0.85   \n",
       " \n",
       "                                                   RMSE  Time Taken  \n",
       " Model                                                               \n",
       " TransformedTargetRegressor    298888981507249733632.00        0.09  \n",
       " LinearRegression              298888981507249733632.00        0.09  \n",
       " RANSACRegressor               188405823836036628480.00        5.09  \n",
       " Lars                                  2532695788566.15        0.46  \n",
       " SGDRegressor                               26831128.02        0.06  \n",
       " LinearSVR                                  11384265.42        0.05  \n",
       " MLPRegressor                               11383398.90        2.34  \n",
       " PassiveAggressiveRegressor                 10729671.85        1.69  \n",
       " GaussianProcessRegressor                   10089010.05        0.89  \n",
       " KernelRidge                                 9798378.60        0.09  \n",
       " QuantileRegressor                           6120055.05        8.72  \n",
       " SVR                                         6120052.09        0.22  \n",
       " DummyRegressor                              6028972.16        0.07  \n",
       " BayesianRidge                               6028972.16        0.26  \n",
       " ElasticNetCV                                6024579.96        1.37  \n",
       " NuSVR                                       6022514.05        0.18  \n",
       " KNeighborsRegressor                         3765272.78        0.06  \n",
       " LarsCV                                      3709862.89        5.21  \n",
       " Lasso                                       3613007.70        0.43  \n",
       " AdaBoostRegressor                           3593642.50        0.68  \n",
       " LassoLarsIC                                 3459237.32        0.20  \n",
       " DecisionTreeRegressor                       3328385.34        0.11  \n",
       " Ridge                                       3084511.71        0.08  \n",
       " ExtraTreeRegressor                          2806151.05        0.08  \n",
       " TweedieRegressor                            2768020.68        0.07  \n",
       " RidgeCV                                     2719154.81        0.15  \n",
       " HistGradientBoostingRegressor               2699971.92        9.23  \n",
       " OrthogonalMatchingPursuitCV                 2694737.35        0.20  \n",
       " LGBMRegressor                               2685372.29        0.13  \n",
       " BaggingRegressor                            2675274.24        0.26  \n",
       " RandomForestRegressor                       2622469.92        1.01  \n",
       " XGBRegressor                                2586690.03        1.07  \n",
       " ElasticNet                                  2577569.08        0.08  \n",
       " HuberRegressor                              2573931.54        0.42  \n",
       " GradientBoostingRegressor                   2559245.39        0.70  \n",
       " LassoLars                                   2546313.91        0.18  \n",
       " LassoLarsCV                                 2546313.91        2.14  \n",
       " OrthogonalMatchingPursuit                   2545951.31        0.08  \n",
       " GammaRegressor                              2541657.64        0.06  \n",
       " LassoCV                                     2522039.53        4.23  \n",
       " PoissonRegressor                            2480140.59        0.10  \n",
       " ExtraTreesRegressor                         2300603.38        1.72  )"
      ]
     },
     "execution_count": 195,
     "metadata": {},
     "output_type": "execute_result"
    }
   ],
   "source": [
    "# Dividir los datos en conjunto de entrenamiento y prueba\n",
    "\n",
    "X_train, X_test, y_train, y_test = tts(X, y, \n",
    "                                       train_size=0.8, \n",
    "                                       test_size=0.2,\n",
    "                                       random_state=42\n",
    "                                      )\n",
    "\n",
    "\n",
    "X_train.shape, X_test.shape, y_train.shape, y_test.shape\n",
    "\n",
    "# Crear el modelo de regresión lineal\n",
    "model = LazyRegressor()\n",
    "\n",
    "# Entrenar el modelo con los datos de entrenamiento\n",
    "model.fit(X_train, X_test, y_train, y_test)\n"
   ]
  },
  {
   "attachments": {},
   "cell_type": "markdown",
   "metadata": {},
   "source": [
    " Se observa que los modelos como, RandomForestRegressor y GradientBoostingRegressor tienen valores más altos para el coeficiente de determinación ajustado y MSE más bajos, lo que indica un mejor ajuste y menor error. Estos modelos podrían considerarse como buenas opciones para predecir el precio de un ordenador."
   ]
  },
  {
   "attachments": {},
   "cell_type": "markdown",
   "metadata": {},
   "source": [
    "# Predicción"
   ]
  },
  {
   "cell_type": "code",
   "execution_count": 208,
   "metadata": {},
   "outputs": [
    {
     "data": {
      "text/plain": [
       "(325, 751)"
      ]
     },
     "execution_count": 208,
     "metadata": {},
     "output_type": "execute_result"
    }
   ],
   "source": [
    "test.shape"
   ]
  },
  {
   "cell_type": "code",
   "execution_count": 209,
   "metadata": {},
   "outputs": [
    {
     "data": {
      "text/plain": [
       "(977, 751)"
      ]
     },
     "execution_count": 209,
     "metadata": {},
     "output_type": "execute_result"
    }
   ],
   "source": [
    "train.shape"
   ]
  },
  {
   "cell_type": "code",
   "execution_count": 196,
   "metadata": {},
   "outputs": [
    {
     "data": {
      "text/plain": [
       "array([8121033.76162486])"
      ]
     },
     "execution_count": 196,
     "metadata": {},
     "output_type": "execute_result"
    }
   ],
   "source": [
    "# Realizar predicciones en el conjunto de prueba con GradientBoostingRegressor\n",
    "model_gradient.predict(X_test)[:1]"
   ]
  },
  {
   "cell_type": "code",
   "execution_count": 197,
   "metadata": {},
   "outputs": [
    {
     "data": {
      "text/plain": [
       "array([8959571.1972])"
      ]
     },
     "execution_count": 197,
     "metadata": {},
     "output_type": "execute_result"
    }
   ],
   "source": [
    "# Realizar predicciones en el conjunto de prueba con RandomForestRegressor\n",
    "model_random.predict(X_test)[:1]"
   ]
  },
  {
   "cell_type": "code",
   "execution_count": 218,
   "metadata": {},
   "outputs": [],
   "source": [
    "test.drop('Price', axis=1, inplace=True)\n",
    "\n",
    "\n"
   ]
  },
  {
   "cell_type": "code",
   "execution_count": 219,
   "metadata": {},
   "outputs": [],
   "source": [
    "test['Price'] = None"
   ]
  },
  {
   "cell_type": "code",
   "execution_count": 215,
   "metadata": {},
   "outputs": [],
   "source": [
    "test.fillna(0, inplace=True)\n"
   ]
  },
  {
   "cell_type": "code",
   "execution_count": 220,
   "metadata": {},
   "outputs": [],
   "source": [
    "X = test.drop('Price', axis=1)\n",
    "\n",
    "y = test.Price"
   ]
  },
  {
   "cell_type": "code",
   "execution_count": 222,
   "metadata": {},
   "outputs": [
    {
     "data": {
      "text/plain": [
       "(325,)"
      ]
     },
     "execution_count": 222,
     "metadata": {},
     "output_type": "execute_result"
    }
   ],
   "source": [
    "y.shape"
   ]
  },
  {
   "cell_type": "code",
   "execution_count": 224,
   "metadata": {},
   "outputs": [],
   "source": [
    "\n",
    "\n",
    "# Utilizar el modelo entrenado para hacer predicciones sobre el DataFrame test\n",
    "predictions = model_gradient.predict(X)\n",
    "\n"
   ]
  },
  {
   "cell_type": "code",
   "execution_count": 225,
   "metadata": {},
   "outputs": [],
   "source": [
    "# Predecir el precio del DataFrame de prueba utilizando el modelo GradientBoostingRegressor\n",
    "predictions_gradient = model_gradient.predict(X)\n",
    "\n",
    "# Predecir el precio del DataFrame de prueba utilizando el modelo RandomForestRegressor\n",
    "predictions_random = model_random.predict(X)\n"
   ]
  },
  {
   "cell_type": "code",
   "execution_count": 226,
   "metadata": {},
   "outputs": [
    {
     "data": {
      "text/plain": [
       "array([6080540.778])"
      ]
     },
     "execution_count": 226,
     "metadata": {},
     "output_type": "execute_result"
    }
   ],
   "source": [
    "predictions_random[:1]"
   ]
  },
  {
   "attachments": {},
   "cell_type": "markdown",
   "metadata": {},
   "source": [
    "# Resultados"
   ]
  },
  {
   "cell_type": "code",
   "execution_count": 245,
   "metadata": {},
   "outputs": [
    {
     "data": {
      "text/html": [
       "<div>\n",
       "<style scoped>\n",
       "    .dataframe tbody tr th:only-of-type {\n",
       "        vertical-align: middle;\n",
       "    }\n",
       "\n",
       "    .dataframe tbody tr th {\n",
       "        vertical-align: top;\n",
       "    }\n",
       "\n",
       "    .dataframe thead th {\n",
       "        text-align: right;\n",
       "    }\n",
       "</style>\n",
       "<table border=\"1\" class=\"dataframe\">\n",
       "  <thead>\n",
       "    <tr style=\"text-align: right;\">\n",
       "      <th></th>\n",
       "      <th>id</th>\n",
       "      <th>Price</th>\n",
       "    </tr>\n",
       "  </thead>\n",
       "  <tbody>\n",
       "    <tr>\n",
       "      <th>0</th>\n",
       "      <td>0</td>\n",
       "      <td>2759145</td>\n",
       "    </tr>\n",
       "    <tr>\n",
       "      <th>1</th>\n",
       "      <td>1</td>\n",
       "      <td>10926785</td>\n",
       "    </tr>\n",
       "    <tr>\n",
       "      <th>2</th>\n",
       "      <td>2</td>\n",
       "      <td>20212944</td>\n",
       "    </tr>\n",
       "    <tr>\n",
       "      <th>3</th>\n",
       "      <td>3</td>\n",
       "      <td>46541311</td>\n",
       "    </tr>\n",
       "    <tr>\n",
       "      <th>4</th>\n",
       "      <td>4</td>\n",
       "      <td>46335226</td>\n",
       "    </tr>\n",
       "  </tbody>\n",
       "</table>\n",
       "</div>"
      ],
      "text/plain": [
       "   id     Price\n",
       "0   0   2759145\n",
       "1   1  10926785\n",
       "2   2  20212944\n",
       "3   3  46541311\n",
       "4   4  46335226"
      ]
     },
     "execution_count": 245,
     "metadata": {},
     "output_type": "execute_result"
    }
   ],
   "source": [
    "muestra.head()"
   ]
  },
  {
   "cell_type": "code",
   "execution_count": 252,
   "metadata": {},
   "outputs": [],
   "source": [
    "#creamos una copia y añadimos la predicción de Id y precios del modelo gradiente\n",
    "\n",
    "test_pred = test.copy()\n",
    "\n",
    "test_pred.reset_index(drop=True, inplace=True)\n",
    "\n",
    "test_pred['Id'] = range(0, len(test))\n",
    "\n",
    "test_pred['Price'] = predictions_gradient\n",
    "\n",
    "result_model_gradient = test_pred[['Id', 'Price']]\n"
   ]
  },
  {
   "cell_type": "code",
   "execution_count": 251,
   "metadata": {},
   "outputs": [],
   "source": [
    "#creamos una copia y añadimos la predicción de precios de Id y del modelo gradiente\n",
    "\n",
    "test_pred = test.copy()\n",
    "\n",
    "test_pred.reset_index(drop=True, inplace=True)\n",
    "\n",
    "test_pred['Id'] = range(0, len(test))\n",
    "\n",
    "test_pred['Price'] = predictions_random\n",
    "\n",
    "result_model_random = test_pred[['Id', 'Price']]"
   ]
  },
  {
   "cell_type": "code",
   "execution_count": 254,
   "metadata": {},
   "outputs": [
    {
     "data": {
      "text/html": [
       "<div>\n",
       "<style scoped>\n",
       "    .dataframe tbody tr th:only-of-type {\n",
       "        vertical-align: middle;\n",
       "    }\n",
       "\n",
       "    .dataframe tbody tr th {\n",
       "        vertical-align: top;\n",
       "    }\n",
       "\n",
       "    .dataframe thead th {\n",
       "        text-align: right;\n",
       "    }\n",
       "</style>\n",
       "<table border=\"1\" class=\"dataframe\">\n",
       "  <thead>\n",
       "    <tr style=\"text-align: right;\">\n",
       "      <th></th>\n",
       "      <th>Id</th>\n",
       "      <th>Price</th>\n",
       "    </tr>\n",
       "  </thead>\n",
       "  <tbody>\n",
       "    <tr>\n",
       "      <th>0</th>\n",
       "      <td>0</td>\n",
       "      <td>6080540.78</td>\n",
       "    </tr>\n",
       "    <tr>\n",
       "      <th>1</th>\n",
       "      <td>1</td>\n",
       "      <td>14350430.67</td>\n",
       "    </tr>\n",
       "    <tr>\n",
       "      <th>2</th>\n",
       "      <td>2</td>\n",
       "      <td>11272473.76</td>\n",
       "    </tr>\n",
       "    <tr>\n",
       "      <th>3</th>\n",
       "      <td>3</td>\n",
       "      <td>10728998.28</td>\n",
       "    </tr>\n",
       "    <tr>\n",
       "      <th>4</th>\n",
       "      <td>4</td>\n",
       "      <td>4161053.19</td>\n",
       "    </tr>\n",
       "  </tbody>\n",
       "</table>\n",
       "</div>"
      ],
      "text/plain": [
       "   Id       Price\n",
       "0   0  6080540.78\n",
       "1   1 14350430.67\n",
       "2   2 11272473.76\n",
       "3   3 10728998.28\n",
       "4   4  4161053.19"
      ]
     },
     "execution_count": 254,
     "metadata": {},
     "output_type": "execute_result"
    }
   ],
   "source": [
    "result_model_random.head()"
   ]
  },
  {
   "cell_type": "code",
   "execution_count": 253,
   "metadata": {},
   "outputs": [
    {
     "data": {
      "text/html": [
       "<div>\n",
       "<style scoped>\n",
       "    .dataframe tbody tr th:only-of-type {\n",
       "        vertical-align: middle;\n",
       "    }\n",
       "\n",
       "    .dataframe tbody tr th {\n",
       "        vertical-align: top;\n",
       "    }\n",
       "\n",
       "    .dataframe thead th {\n",
       "        text-align: right;\n",
       "    }\n",
       "</style>\n",
       "<table border=\"1\" class=\"dataframe\">\n",
       "  <thead>\n",
       "    <tr style=\"text-align: right;\">\n",
       "      <th></th>\n",
       "      <th>Id</th>\n",
       "      <th>Price</th>\n",
       "    </tr>\n",
       "  </thead>\n",
       "  <tbody>\n",
       "    <tr>\n",
       "      <th>0</th>\n",
       "      <td>0</td>\n",
       "      <td>6072625.83</td>\n",
       "    </tr>\n",
       "    <tr>\n",
       "      <th>1</th>\n",
       "      <td>1</td>\n",
       "      <td>16234940.69</td>\n",
       "    </tr>\n",
       "    <tr>\n",
       "      <th>2</th>\n",
       "      <td>2</td>\n",
       "      <td>12012011.14</td>\n",
       "    </tr>\n",
       "    <tr>\n",
       "      <th>3</th>\n",
       "      <td>3</td>\n",
       "      <td>8411600.51</td>\n",
       "    </tr>\n",
       "    <tr>\n",
       "      <th>4</th>\n",
       "      <td>4</td>\n",
       "      <td>5235825.23</td>\n",
       "    </tr>\n",
       "  </tbody>\n",
       "</table>\n",
       "</div>"
      ],
      "text/plain": [
       "   Id       Price\n",
       "0   0  6072625.83\n",
       "1   1 16234940.69\n",
       "2   2 12012011.14\n",
       "3   3  8411600.51\n",
       "4   4  5235825.23"
      ]
     },
     "execution_count": 253,
     "metadata": {},
     "output_type": "execute_result"
    }
   ],
   "source": [
    "result_model_gradient.head()"
   ]
  },
  {
   "cell_type": "code",
   "execution_count": 255,
   "metadata": {},
   "outputs": [],
   "source": [
    "result_model_gradient.to_csv('../data/predictions/result_model_gradient.csv', index=False)\n",
    "result_model_random.to_csv('../data/predictions/result_model_random.csv', index=False)"
   ]
  },
  {
   "cell_type": "code",
   "execution_count": null,
   "metadata": {},
   "outputs": [],
   "source": []
  },
  {
   "cell_type": "code",
   "execution_count": null,
   "metadata": {},
   "outputs": [],
   "source": []
  },
  {
   "cell_type": "code",
   "execution_count": null,
   "metadata": {},
   "outputs": [],
   "source": []
  },
  {
   "cell_type": "code",
   "execution_count": null,
   "metadata": {},
   "outputs": [],
   "source": []
  }
 ],
 "metadata": {
  "kernelspec": {
   "display_name": "base",
   "language": "python",
   "name": "python3"
  },
  "language_info": {
   "codemirror_mode": {
    "name": "ipython",
    "version": 3
   },
   "file_extension": ".py",
   "mimetype": "text/x-python",
   "name": "python",
   "nbconvert_exporter": "python",
   "pygments_lexer": "ipython3",
   "version": "3.9.13"
  },
  "orig_nbformat": 4
 },
 "nbformat": 4,
 "nbformat_minor": 2
}
